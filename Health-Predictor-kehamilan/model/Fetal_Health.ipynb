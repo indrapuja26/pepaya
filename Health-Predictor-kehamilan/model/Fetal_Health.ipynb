{
  "nbformat": 4,
  "nbformat_minor": 0,
  "metadata": {
    "colab": {
      "name": "Fetal Health.ipynb",
      "provenance": [],
      "collapsed_sections": []
    },
    "kernelspec": {
      "display_name": "Python 3",
      "name": "python3"
    }
  },
  "cells": [
    {
      "cell_type": "markdown",
      "metadata": {
        "id": "6plhfiq2hDZd"
      },
      "source": [
        "## **Klasifikasi: Prediksi Terhadap Kesehatan Janin**\n",
        "\n",
        "Model klasifikasi ini dibuat sebagaimana yang dibutuhkan oleh para profesional di bidang kesehatan ibu & bayi, terutama dokter kandungan. Untuk membantu mereka mengambil keputusan dan tindakan untuk menyelamatkan bayi yang masih dalam kandungan. Output daripada model ini adalah tiga macam: normal, suspect, atau pathological. Model ini dapat digunakan apabila dokter bersangkutan memiliki alat Cardiotocograms (CTGs), sebagai alat pendeteksi detak jantung bayi. \n",
        "\n",
        "Dataset pada kasus ini diambil dari kaggle pada [link](https://www.kaggle.com/andrewmvd/fetal-health-classification) berikut ini\n",
        "\n",
        "Sebelum masuk ke data perlu diketahui pengertian dari setiap variabel, sebagaimana yang telah dijelaskan oleh [Pildner von Steinburg et al, 2013](https://www.researchgate.net/figure/Histogram-of-baseline-fetal-heart-rate-values-A-Training-data-B-Validation-data-C_fig1_237199969), [Healthline](https://www.healthline.com/health/pregnancy/abnormal-fetal-heart-tracings#accelerations), [Choe et al, 2020](https://www.ncbi.nlm.nih.gov/books/NBK557393/), dan [Perinatology](http://perinatology.com/Fetal%20Monitoring/Intrapartum%20Monitoring.htm)\n",
        "\n",
        "Variabel X:\n",
        "1.   Baseline Value: Perkiraan detak jantung di antara kontraksi rahim, range normalnya 110-160 bpm\n",
        "2.   Accelerations: Kenaikan sementara pada detak jantung bayi \n",
        "3.   Fetal Movement: Perhitungan pergerakan bayi\n",
        "4.   Uterine Contractions: Kontraksi pada rahim\n",
        "5.   Light Decelerations: Penurunan detak jantung sementara yang masih normal\n",
        "6.   Severe Decelertions: Penurunan detak jantung sementara yang tergolong parah\n",
        "7.   Prolongued Decelerations: Penurunan detak jantung yang berkepanjangan\n",
        "8.   Abnormal Short Term Variability: Fluktuasi detak jantung abnormal lebih dari dua siklus per menit (bpm)\n",
        "9.   Mean Value of Short Term Variability: Rata-rata jangka pendek fluktuasi detak jantung lebih dari dua siklus per menit (bpm)\n",
        "10.  Percentage of time with Abnormal Long Term Variability: Persentase waktu detak jantung abnormal lebih dari dua siklus per menit\n",
        "11.  Mean Value of Long Term Variability: Rata-rata jangka panjang fluktuasi detak jantung lebih dari dua siklus per menit (bpm)\n",
        "12.  Histogram Width: Lebar histogram\n",
        "13.  Histogram Min: Nilai minimal histogram\n",
        "14.  Histogram Max: Nilai maksimal histogram\n",
        "15.  Histogram Number of Peaks: Jumlah puncak histogram\n",
        "16.  Histogram Number of Zeroes: Jumlah nilai nol dalam histogram\n",
        "17.  Histogram Mode: Nilai mode histogram\n",
        "18.  Histogram Mean: Nilai rata-rata histogram\n",
        "19.\t Histogram Median: Nilai tengah histogram\n",
        "20.  Histogram Variance: Nilai varians histogram\n",
        "21.  Histogram Tendency: Nilai kecenderungan histogram\n",
        "-Catatan: Nilai histogram dihitung berdasarkan data keseluruhan *Fetal Baseline Value Heartrate* yang sudah direkam\n",
        "\n",
        "Variabel Y:\t\n",
        "22.  Fetal Health (Normal, Suspect, atau Pathological)\n",
        "\t\n",
        "\n",
        "\t\n",
        "\t\n",
        "\n",
        "\n",
        "\t\n",
        "\t\n",
        "\n"
      ]
    },
    {
      "cell_type": "markdown",
      "metadata": {
        "id": "GvFPqqwFucD5"
      },
      "source": [
        "# **Data Discovery**"
      ]
    },
    {
      "cell_type": "markdown",
      "metadata": {
        "id": "eWvTPaFWdpPv"
      },
      "source": [
        "# **Import Library**\r\n",
        "Melakukan import library yang dibutuhkan dalam membangun model prediksi pada klasifikasi kesehatan janin."
      ]
    },
    {
      "cell_type": "code",
      "metadata": {
        "id": "SRLDCWIOJ94k"
      },
      "source": [
        "import warnings\n",
        "warnings.simplefilter(action =\"ignore\")\n",
        "\n",
        "from collections import Counter\n",
        "import warnings\n",
        "warnings.filterwarnings('ignore')\n",
        "\n",
        "# Import the necessary packages\n",
        "import numpy as np\n",
        "import pandas as pd\n",
        "\n",
        "# Data visualization\n",
        "import matplotlib.pyplot as plt\n",
        "import seaborn as sns\n",
        "import missingno as msno\n",
        "\n",
        "# Algorithms\n",
        "\n",
        "from sklearn.preprocessing import StandardScaler\n",
        "from sklearn.model_selection import train_test_split"
      ],
      "execution_count": null,
      "outputs": []
    },
    {
      "cell_type": "markdown",
      "metadata": {
        "id": "H7OmABoEd2SP"
      },
      "source": [
        "## **Loading Data**\r\n",
        "Proses membaca data yang sudah disimpan dalam repo, data diambil dari link kaggle yang sudah ditaruh di awal"
      ]
    },
    {
      "cell_type": "code",
      "metadata": {
        "id": "yrLq7Pn_KHlP",
        "colab": {
          "base_uri": "https://localhost:8080/",
          "height": 551
        },
        "outputId": "d8142e6e-133e-49fe-f43c-e1a46c18dcbb"
      },
      "source": [
        "# Import Data to Google Colab\n",
        "data = pd.read_csv('https://raw.githubusercontent.com/ihsanmauri/Telkom-DTI/master/fetal_health.csv', sep = ',')\n",
        "data\n",
        "\n",
        "# Show the Data\n",
        "data.head(15)"
      ],
      "execution_count": null,
      "outputs": [
        {
          "output_type": "execute_result",
          "data": {
            "text/html": [
              "<div>\n",
              "<style scoped>\n",
              "    .dataframe tbody tr th:only-of-type {\n",
              "        vertical-align: middle;\n",
              "    }\n",
              "\n",
              "    .dataframe tbody tr th {\n",
              "        vertical-align: top;\n",
              "    }\n",
              "\n",
              "    .dataframe thead th {\n",
              "        text-align: right;\n",
              "    }\n",
              "</style>\n",
              "<table border=\"1\" class=\"dataframe\">\n",
              "  <thead>\n",
              "    <tr style=\"text-align: right;\">\n",
              "      <th></th>\n",
              "      <th>baseline value</th>\n",
              "      <th>accelerations</th>\n",
              "      <th>fetal_movement</th>\n",
              "      <th>uterine_contractions</th>\n",
              "      <th>light_decelerations</th>\n",
              "      <th>severe_decelerations</th>\n",
              "      <th>prolongued_decelerations</th>\n",
              "      <th>abnormal_short_term_variability</th>\n",
              "      <th>mean_value_of_short_term_variability</th>\n",
              "      <th>percentage_of_time_with_abnormal_long_term_variability</th>\n",
              "      <th>mean_value_of_long_term_variability</th>\n",
              "      <th>histogram_width</th>\n",
              "      <th>histogram_min</th>\n",
              "      <th>histogram_max</th>\n",
              "      <th>histogram_number_of_peaks</th>\n",
              "      <th>histogram_number_of_zeroes</th>\n",
              "      <th>histogram_mode</th>\n",
              "      <th>histogram_mean</th>\n",
              "      <th>histogram_median</th>\n",
              "      <th>histogram_variance</th>\n",
              "      <th>histogram_tendency</th>\n",
              "      <th>fetal_health</th>\n",
              "    </tr>\n",
              "  </thead>\n",
              "  <tbody>\n",
              "    <tr>\n",
              "      <th>0</th>\n",
              "      <td>120.0</td>\n",
              "      <td>0.000</td>\n",
              "      <td>0.000</td>\n",
              "      <td>0.000</td>\n",
              "      <td>0.000</td>\n",
              "      <td>0.0</td>\n",
              "      <td>0.000</td>\n",
              "      <td>73.0</td>\n",
              "      <td>0.5</td>\n",
              "      <td>43.0</td>\n",
              "      <td>2.4</td>\n",
              "      <td>64.0</td>\n",
              "      <td>62.0</td>\n",
              "      <td>126.0</td>\n",
              "      <td>2.0</td>\n",
              "      <td>0.0</td>\n",
              "      <td>120.0</td>\n",
              "      <td>137.0</td>\n",
              "      <td>121.0</td>\n",
              "      <td>73.0</td>\n",
              "      <td>1.0</td>\n",
              "      <td>2.0</td>\n",
              "    </tr>\n",
              "    <tr>\n",
              "      <th>1</th>\n",
              "      <td>132.0</td>\n",
              "      <td>0.006</td>\n",
              "      <td>0.000</td>\n",
              "      <td>0.006</td>\n",
              "      <td>0.003</td>\n",
              "      <td>0.0</td>\n",
              "      <td>0.000</td>\n",
              "      <td>17.0</td>\n",
              "      <td>2.1</td>\n",
              "      <td>0.0</td>\n",
              "      <td>10.4</td>\n",
              "      <td>130.0</td>\n",
              "      <td>68.0</td>\n",
              "      <td>198.0</td>\n",
              "      <td>6.0</td>\n",
              "      <td>1.0</td>\n",
              "      <td>141.0</td>\n",
              "      <td>136.0</td>\n",
              "      <td>140.0</td>\n",
              "      <td>12.0</td>\n",
              "      <td>0.0</td>\n",
              "      <td>1.0</td>\n",
              "    </tr>\n",
              "    <tr>\n",
              "      <th>2</th>\n",
              "      <td>133.0</td>\n",
              "      <td>0.003</td>\n",
              "      <td>0.000</td>\n",
              "      <td>0.008</td>\n",
              "      <td>0.003</td>\n",
              "      <td>0.0</td>\n",
              "      <td>0.000</td>\n",
              "      <td>16.0</td>\n",
              "      <td>2.1</td>\n",
              "      <td>0.0</td>\n",
              "      <td>13.4</td>\n",
              "      <td>130.0</td>\n",
              "      <td>68.0</td>\n",
              "      <td>198.0</td>\n",
              "      <td>5.0</td>\n",
              "      <td>1.0</td>\n",
              "      <td>141.0</td>\n",
              "      <td>135.0</td>\n",
              "      <td>138.0</td>\n",
              "      <td>13.0</td>\n",
              "      <td>0.0</td>\n",
              "      <td>1.0</td>\n",
              "    </tr>\n",
              "    <tr>\n",
              "      <th>3</th>\n",
              "      <td>134.0</td>\n",
              "      <td>0.003</td>\n",
              "      <td>0.000</td>\n",
              "      <td>0.008</td>\n",
              "      <td>0.003</td>\n",
              "      <td>0.0</td>\n",
              "      <td>0.000</td>\n",
              "      <td>16.0</td>\n",
              "      <td>2.4</td>\n",
              "      <td>0.0</td>\n",
              "      <td>23.0</td>\n",
              "      <td>117.0</td>\n",
              "      <td>53.0</td>\n",
              "      <td>170.0</td>\n",
              "      <td>11.0</td>\n",
              "      <td>0.0</td>\n",
              "      <td>137.0</td>\n",
              "      <td>134.0</td>\n",
              "      <td>137.0</td>\n",
              "      <td>13.0</td>\n",
              "      <td>1.0</td>\n",
              "      <td>1.0</td>\n",
              "    </tr>\n",
              "    <tr>\n",
              "      <th>4</th>\n",
              "      <td>132.0</td>\n",
              "      <td>0.007</td>\n",
              "      <td>0.000</td>\n",
              "      <td>0.008</td>\n",
              "      <td>0.000</td>\n",
              "      <td>0.0</td>\n",
              "      <td>0.000</td>\n",
              "      <td>16.0</td>\n",
              "      <td>2.4</td>\n",
              "      <td>0.0</td>\n",
              "      <td>19.9</td>\n",
              "      <td>117.0</td>\n",
              "      <td>53.0</td>\n",
              "      <td>170.0</td>\n",
              "      <td>9.0</td>\n",
              "      <td>0.0</td>\n",
              "      <td>137.0</td>\n",
              "      <td>136.0</td>\n",
              "      <td>138.0</td>\n",
              "      <td>11.0</td>\n",
              "      <td>1.0</td>\n",
              "      <td>1.0</td>\n",
              "    </tr>\n",
              "    <tr>\n",
              "      <th>5</th>\n",
              "      <td>134.0</td>\n",
              "      <td>0.001</td>\n",
              "      <td>0.000</td>\n",
              "      <td>0.010</td>\n",
              "      <td>0.009</td>\n",
              "      <td>0.0</td>\n",
              "      <td>0.002</td>\n",
              "      <td>26.0</td>\n",
              "      <td>5.9</td>\n",
              "      <td>0.0</td>\n",
              "      <td>0.0</td>\n",
              "      <td>150.0</td>\n",
              "      <td>50.0</td>\n",
              "      <td>200.0</td>\n",
              "      <td>5.0</td>\n",
              "      <td>3.0</td>\n",
              "      <td>76.0</td>\n",
              "      <td>107.0</td>\n",
              "      <td>107.0</td>\n",
              "      <td>170.0</td>\n",
              "      <td>0.0</td>\n",
              "      <td>3.0</td>\n",
              "    </tr>\n",
              "    <tr>\n",
              "      <th>6</th>\n",
              "      <td>134.0</td>\n",
              "      <td>0.001</td>\n",
              "      <td>0.000</td>\n",
              "      <td>0.013</td>\n",
              "      <td>0.008</td>\n",
              "      <td>0.0</td>\n",
              "      <td>0.003</td>\n",
              "      <td>29.0</td>\n",
              "      <td>6.3</td>\n",
              "      <td>0.0</td>\n",
              "      <td>0.0</td>\n",
              "      <td>150.0</td>\n",
              "      <td>50.0</td>\n",
              "      <td>200.0</td>\n",
              "      <td>6.0</td>\n",
              "      <td>3.0</td>\n",
              "      <td>71.0</td>\n",
              "      <td>107.0</td>\n",
              "      <td>106.0</td>\n",
              "      <td>215.0</td>\n",
              "      <td>0.0</td>\n",
              "      <td>3.0</td>\n",
              "    </tr>\n",
              "    <tr>\n",
              "      <th>7</th>\n",
              "      <td>122.0</td>\n",
              "      <td>0.000</td>\n",
              "      <td>0.000</td>\n",
              "      <td>0.000</td>\n",
              "      <td>0.000</td>\n",
              "      <td>0.0</td>\n",
              "      <td>0.000</td>\n",
              "      <td>83.0</td>\n",
              "      <td>0.5</td>\n",
              "      <td>6.0</td>\n",
              "      <td>15.6</td>\n",
              "      <td>68.0</td>\n",
              "      <td>62.0</td>\n",
              "      <td>130.0</td>\n",
              "      <td>0.0</td>\n",
              "      <td>0.0</td>\n",
              "      <td>122.0</td>\n",
              "      <td>122.0</td>\n",
              "      <td>123.0</td>\n",
              "      <td>3.0</td>\n",
              "      <td>1.0</td>\n",
              "      <td>3.0</td>\n",
              "    </tr>\n",
              "    <tr>\n",
              "      <th>8</th>\n",
              "      <td>122.0</td>\n",
              "      <td>0.000</td>\n",
              "      <td>0.000</td>\n",
              "      <td>0.002</td>\n",
              "      <td>0.000</td>\n",
              "      <td>0.0</td>\n",
              "      <td>0.000</td>\n",
              "      <td>84.0</td>\n",
              "      <td>0.5</td>\n",
              "      <td>5.0</td>\n",
              "      <td>13.6</td>\n",
              "      <td>68.0</td>\n",
              "      <td>62.0</td>\n",
              "      <td>130.0</td>\n",
              "      <td>0.0</td>\n",
              "      <td>0.0</td>\n",
              "      <td>122.0</td>\n",
              "      <td>122.0</td>\n",
              "      <td>123.0</td>\n",
              "      <td>3.0</td>\n",
              "      <td>1.0</td>\n",
              "      <td>3.0</td>\n",
              "    </tr>\n",
              "    <tr>\n",
              "      <th>9</th>\n",
              "      <td>122.0</td>\n",
              "      <td>0.000</td>\n",
              "      <td>0.000</td>\n",
              "      <td>0.003</td>\n",
              "      <td>0.000</td>\n",
              "      <td>0.0</td>\n",
              "      <td>0.000</td>\n",
              "      <td>86.0</td>\n",
              "      <td>0.3</td>\n",
              "      <td>6.0</td>\n",
              "      <td>10.6</td>\n",
              "      <td>68.0</td>\n",
              "      <td>62.0</td>\n",
              "      <td>130.0</td>\n",
              "      <td>1.0</td>\n",
              "      <td>0.0</td>\n",
              "      <td>122.0</td>\n",
              "      <td>122.0</td>\n",
              "      <td>123.0</td>\n",
              "      <td>1.0</td>\n",
              "      <td>1.0</td>\n",
              "      <td>3.0</td>\n",
              "    </tr>\n",
              "    <tr>\n",
              "      <th>10</th>\n",
              "      <td>151.0</td>\n",
              "      <td>0.000</td>\n",
              "      <td>0.000</td>\n",
              "      <td>0.001</td>\n",
              "      <td>0.001</td>\n",
              "      <td>0.0</td>\n",
              "      <td>0.000</td>\n",
              "      <td>64.0</td>\n",
              "      <td>1.9</td>\n",
              "      <td>9.0</td>\n",
              "      <td>27.6</td>\n",
              "      <td>130.0</td>\n",
              "      <td>56.0</td>\n",
              "      <td>186.0</td>\n",
              "      <td>2.0</td>\n",
              "      <td>0.0</td>\n",
              "      <td>150.0</td>\n",
              "      <td>148.0</td>\n",
              "      <td>151.0</td>\n",
              "      <td>9.0</td>\n",
              "      <td>1.0</td>\n",
              "      <td>2.0</td>\n",
              "    </tr>\n",
              "    <tr>\n",
              "      <th>11</th>\n",
              "      <td>150.0</td>\n",
              "      <td>0.000</td>\n",
              "      <td>0.000</td>\n",
              "      <td>0.001</td>\n",
              "      <td>0.001</td>\n",
              "      <td>0.0</td>\n",
              "      <td>0.000</td>\n",
              "      <td>64.0</td>\n",
              "      <td>2.0</td>\n",
              "      <td>8.0</td>\n",
              "      <td>29.5</td>\n",
              "      <td>130.0</td>\n",
              "      <td>56.0</td>\n",
              "      <td>186.0</td>\n",
              "      <td>5.0</td>\n",
              "      <td>0.0</td>\n",
              "      <td>150.0</td>\n",
              "      <td>148.0</td>\n",
              "      <td>151.0</td>\n",
              "      <td>10.0</td>\n",
              "      <td>1.0</td>\n",
              "      <td>2.0</td>\n",
              "    </tr>\n",
              "    <tr>\n",
              "      <th>12</th>\n",
              "      <td>131.0</td>\n",
              "      <td>0.005</td>\n",
              "      <td>0.072</td>\n",
              "      <td>0.008</td>\n",
              "      <td>0.003</td>\n",
              "      <td>0.0</td>\n",
              "      <td>0.000</td>\n",
              "      <td>28.0</td>\n",
              "      <td>1.4</td>\n",
              "      <td>0.0</td>\n",
              "      <td>12.9</td>\n",
              "      <td>66.0</td>\n",
              "      <td>88.0</td>\n",
              "      <td>154.0</td>\n",
              "      <td>5.0</td>\n",
              "      <td>0.0</td>\n",
              "      <td>135.0</td>\n",
              "      <td>134.0</td>\n",
              "      <td>137.0</td>\n",
              "      <td>7.0</td>\n",
              "      <td>1.0</td>\n",
              "      <td>1.0</td>\n",
              "    </tr>\n",
              "    <tr>\n",
              "      <th>13</th>\n",
              "      <td>131.0</td>\n",
              "      <td>0.009</td>\n",
              "      <td>0.222</td>\n",
              "      <td>0.006</td>\n",
              "      <td>0.002</td>\n",
              "      <td>0.0</td>\n",
              "      <td>0.000</td>\n",
              "      <td>28.0</td>\n",
              "      <td>1.5</td>\n",
              "      <td>0.0</td>\n",
              "      <td>5.4</td>\n",
              "      <td>87.0</td>\n",
              "      <td>71.0</td>\n",
              "      <td>158.0</td>\n",
              "      <td>2.0</td>\n",
              "      <td>0.0</td>\n",
              "      <td>141.0</td>\n",
              "      <td>137.0</td>\n",
              "      <td>141.0</td>\n",
              "      <td>10.0</td>\n",
              "      <td>1.0</td>\n",
              "      <td>1.0</td>\n",
              "    </tr>\n",
              "    <tr>\n",
              "      <th>14</th>\n",
              "      <td>130.0</td>\n",
              "      <td>0.006</td>\n",
              "      <td>0.408</td>\n",
              "      <td>0.004</td>\n",
              "      <td>0.005</td>\n",
              "      <td>0.0</td>\n",
              "      <td>0.001</td>\n",
              "      <td>21.0</td>\n",
              "      <td>2.3</td>\n",
              "      <td>0.0</td>\n",
              "      <td>7.9</td>\n",
              "      <td>107.0</td>\n",
              "      <td>67.0</td>\n",
              "      <td>174.0</td>\n",
              "      <td>7.0</td>\n",
              "      <td>0.0</td>\n",
              "      <td>143.0</td>\n",
              "      <td>125.0</td>\n",
              "      <td>135.0</td>\n",
              "      <td>76.0</td>\n",
              "      <td>0.0</td>\n",
              "      <td>1.0</td>\n",
              "    </tr>\n",
              "  </tbody>\n",
              "</table>\n",
              "</div>"
            ],
            "text/plain": [
              "    baseline value  accelerations  ...  histogram_tendency  fetal_health\n",
              "0            120.0          0.000  ...                 1.0           2.0\n",
              "1            132.0          0.006  ...                 0.0           1.0\n",
              "2            133.0          0.003  ...                 0.0           1.0\n",
              "3            134.0          0.003  ...                 1.0           1.0\n",
              "4            132.0          0.007  ...                 1.0           1.0\n",
              "5            134.0          0.001  ...                 0.0           3.0\n",
              "6            134.0          0.001  ...                 0.0           3.0\n",
              "7            122.0          0.000  ...                 1.0           3.0\n",
              "8            122.0          0.000  ...                 1.0           3.0\n",
              "9            122.0          0.000  ...                 1.0           3.0\n",
              "10           151.0          0.000  ...                 1.0           2.0\n",
              "11           150.0          0.000  ...                 1.0           2.0\n",
              "12           131.0          0.005  ...                 1.0           1.0\n",
              "13           131.0          0.009  ...                 1.0           1.0\n",
              "14           130.0          0.006  ...                 0.0           1.0\n",
              "\n",
              "[15 rows x 22 columns]"
            ]
          },
          "metadata": {
            "tags": []
          },
          "execution_count": 2
        }
      ]
    },
    {
      "cell_type": "code",
      "metadata": {
        "id": "PIynyl8JKg5n",
        "colab": {
          "base_uri": "https://localhost:8080/",
          "height": 731
        },
        "outputId": "1e772892-a44a-49fb-ed18-3dd39ebd388f"
      },
      "source": [
        "# Analyse statically insight of data\n",
        "data.describe().T"
      ],
      "execution_count": null,
      "outputs": [
        {
          "output_type": "execute_result",
          "data": {
            "text/html": [
              "<div>\n",
              "<style scoped>\n",
              "    .dataframe tbody tr th:only-of-type {\n",
              "        vertical-align: middle;\n",
              "    }\n",
              "\n",
              "    .dataframe tbody tr th {\n",
              "        vertical-align: top;\n",
              "    }\n",
              "\n",
              "    .dataframe thead th {\n",
              "        text-align: right;\n",
              "    }\n",
              "</style>\n",
              "<table border=\"1\" class=\"dataframe\">\n",
              "  <thead>\n",
              "    <tr style=\"text-align: right;\">\n",
              "      <th></th>\n",
              "      <th>count</th>\n",
              "      <th>mean</th>\n",
              "      <th>std</th>\n",
              "      <th>min</th>\n",
              "      <th>25%</th>\n",
              "      <th>50%</th>\n",
              "      <th>75%</th>\n",
              "      <th>max</th>\n",
              "    </tr>\n",
              "  </thead>\n",
              "  <tbody>\n",
              "    <tr>\n",
              "      <th>baseline value</th>\n",
              "      <td>2126.0</td>\n",
              "      <td>133.303857</td>\n",
              "      <td>9.840844</td>\n",
              "      <td>106.0</td>\n",
              "      <td>126.000</td>\n",
              "      <td>133.000</td>\n",
              "      <td>140.000</td>\n",
              "      <td>160.000</td>\n",
              "    </tr>\n",
              "    <tr>\n",
              "      <th>accelerations</th>\n",
              "      <td>2126.0</td>\n",
              "      <td>0.003178</td>\n",
              "      <td>0.003866</td>\n",
              "      <td>0.0</td>\n",
              "      <td>0.000</td>\n",
              "      <td>0.002</td>\n",
              "      <td>0.006</td>\n",
              "      <td>0.019</td>\n",
              "    </tr>\n",
              "    <tr>\n",
              "      <th>fetal_movement</th>\n",
              "      <td>2126.0</td>\n",
              "      <td>0.009481</td>\n",
              "      <td>0.046666</td>\n",
              "      <td>0.0</td>\n",
              "      <td>0.000</td>\n",
              "      <td>0.000</td>\n",
              "      <td>0.003</td>\n",
              "      <td>0.481</td>\n",
              "    </tr>\n",
              "    <tr>\n",
              "      <th>uterine_contractions</th>\n",
              "      <td>2126.0</td>\n",
              "      <td>0.004366</td>\n",
              "      <td>0.002946</td>\n",
              "      <td>0.0</td>\n",
              "      <td>0.002</td>\n",
              "      <td>0.004</td>\n",
              "      <td>0.007</td>\n",
              "      <td>0.015</td>\n",
              "    </tr>\n",
              "    <tr>\n",
              "      <th>light_decelerations</th>\n",
              "      <td>2126.0</td>\n",
              "      <td>0.001889</td>\n",
              "      <td>0.002960</td>\n",
              "      <td>0.0</td>\n",
              "      <td>0.000</td>\n",
              "      <td>0.000</td>\n",
              "      <td>0.003</td>\n",
              "      <td>0.015</td>\n",
              "    </tr>\n",
              "    <tr>\n",
              "      <th>severe_decelerations</th>\n",
              "      <td>2126.0</td>\n",
              "      <td>0.000003</td>\n",
              "      <td>0.000057</td>\n",
              "      <td>0.0</td>\n",
              "      <td>0.000</td>\n",
              "      <td>0.000</td>\n",
              "      <td>0.000</td>\n",
              "      <td>0.001</td>\n",
              "    </tr>\n",
              "    <tr>\n",
              "      <th>prolongued_decelerations</th>\n",
              "      <td>2126.0</td>\n",
              "      <td>0.000159</td>\n",
              "      <td>0.000590</td>\n",
              "      <td>0.0</td>\n",
              "      <td>0.000</td>\n",
              "      <td>0.000</td>\n",
              "      <td>0.000</td>\n",
              "      <td>0.005</td>\n",
              "    </tr>\n",
              "    <tr>\n",
              "      <th>abnormal_short_term_variability</th>\n",
              "      <td>2126.0</td>\n",
              "      <td>46.990122</td>\n",
              "      <td>17.192814</td>\n",
              "      <td>12.0</td>\n",
              "      <td>32.000</td>\n",
              "      <td>49.000</td>\n",
              "      <td>61.000</td>\n",
              "      <td>87.000</td>\n",
              "    </tr>\n",
              "    <tr>\n",
              "      <th>mean_value_of_short_term_variability</th>\n",
              "      <td>2126.0</td>\n",
              "      <td>1.332785</td>\n",
              "      <td>0.883241</td>\n",
              "      <td>0.2</td>\n",
              "      <td>0.700</td>\n",
              "      <td>1.200</td>\n",
              "      <td>1.700</td>\n",
              "      <td>7.000</td>\n",
              "    </tr>\n",
              "    <tr>\n",
              "      <th>percentage_of_time_with_abnormal_long_term_variability</th>\n",
              "      <td>2126.0</td>\n",
              "      <td>9.846660</td>\n",
              "      <td>18.396880</td>\n",
              "      <td>0.0</td>\n",
              "      <td>0.000</td>\n",
              "      <td>0.000</td>\n",
              "      <td>11.000</td>\n",
              "      <td>91.000</td>\n",
              "    </tr>\n",
              "    <tr>\n",
              "      <th>mean_value_of_long_term_variability</th>\n",
              "      <td>2126.0</td>\n",
              "      <td>8.187629</td>\n",
              "      <td>5.628247</td>\n",
              "      <td>0.0</td>\n",
              "      <td>4.600</td>\n",
              "      <td>7.400</td>\n",
              "      <td>10.800</td>\n",
              "      <td>50.700</td>\n",
              "    </tr>\n",
              "    <tr>\n",
              "      <th>histogram_width</th>\n",
              "      <td>2126.0</td>\n",
              "      <td>70.445908</td>\n",
              "      <td>38.955693</td>\n",
              "      <td>3.0</td>\n",
              "      <td>37.000</td>\n",
              "      <td>67.500</td>\n",
              "      <td>100.000</td>\n",
              "      <td>180.000</td>\n",
              "    </tr>\n",
              "    <tr>\n",
              "      <th>histogram_min</th>\n",
              "      <td>2126.0</td>\n",
              "      <td>93.579492</td>\n",
              "      <td>29.560212</td>\n",
              "      <td>50.0</td>\n",
              "      <td>67.000</td>\n",
              "      <td>93.000</td>\n",
              "      <td>120.000</td>\n",
              "      <td>159.000</td>\n",
              "    </tr>\n",
              "    <tr>\n",
              "      <th>histogram_max</th>\n",
              "      <td>2126.0</td>\n",
              "      <td>164.025400</td>\n",
              "      <td>17.944183</td>\n",
              "      <td>122.0</td>\n",
              "      <td>152.000</td>\n",
              "      <td>162.000</td>\n",
              "      <td>174.000</td>\n",
              "      <td>238.000</td>\n",
              "    </tr>\n",
              "    <tr>\n",
              "      <th>histogram_number_of_peaks</th>\n",
              "      <td>2126.0</td>\n",
              "      <td>4.068203</td>\n",
              "      <td>2.949386</td>\n",
              "      <td>0.0</td>\n",
              "      <td>2.000</td>\n",
              "      <td>3.000</td>\n",
              "      <td>6.000</td>\n",
              "      <td>18.000</td>\n",
              "    </tr>\n",
              "    <tr>\n",
              "      <th>histogram_number_of_zeroes</th>\n",
              "      <td>2126.0</td>\n",
              "      <td>0.323612</td>\n",
              "      <td>0.706059</td>\n",
              "      <td>0.0</td>\n",
              "      <td>0.000</td>\n",
              "      <td>0.000</td>\n",
              "      <td>0.000</td>\n",
              "      <td>10.000</td>\n",
              "    </tr>\n",
              "    <tr>\n",
              "      <th>histogram_mode</th>\n",
              "      <td>2126.0</td>\n",
              "      <td>137.452023</td>\n",
              "      <td>16.381289</td>\n",
              "      <td>60.0</td>\n",
              "      <td>129.000</td>\n",
              "      <td>139.000</td>\n",
              "      <td>148.000</td>\n",
              "      <td>187.000</td>\n",
              "    </tr>\n",
              "    <tr>\n",
              "      <th>histogram_mean</th>\n",
              "      <td>2126.0</td>\n",
              "      <td>134.610536</td>\n",
              "      <td>15.593596</td>\n",
              "      <td>73.0</td>\n",
              "      <td>125.000</td>\n",
              "      <td>136.000</td>\n",
              "      <td>145.000</td>\n",
              "      <td>182.000</td>\n",
              "    </tr>\n",
              "    <tr>\n",
              "      <th>histogram_median</th>\n",
              "      <td>2126.0</td>\n",
              "      <td>138.090310</td>\n",
              "      <td>14.466589</td>\n",
              "      <td>77.0</td>\n",
              "      <td>129.000</td>\n",
              "      <td>139.000</td>\n",
              "      <td>148.000</td>\n",
              "      <td>186.000</td>\n",
              "    </tr>\n",
              "    <tr>\n",
              "      <th>histogram_variance</th>\n",
              "      <td>2126.0</td>\n",
              "      <td>18.808090</td>\n",
              "      <td>28.977636</td>\n",
              "      <td>0.0</td>\n",
              "      <td>2.000</td>\n",
              "      <td>7.000</td>\n",
              "      <td>24.000</td>\n",
              "      <td>269.000</td>\n",
              "    </tr>\n",
              "    <tr>\n",
              "      <th>histogram_tendency</th>\n",
              "      <td>2126.0</td>\n",
              "      <td>0.320320</td>\n",
              "      <td>0.610829</td>\n",
              "      <td>-1.0</td>\n",
              "      <td>0.000</td>\n",
              "      <td>0.000</td>\n",
              "      <td>1.000</td>\n",
              "      <td>1.000</td>\n",
              "    </tr>\n",
              "    <tr>\n",
              "      <th>fetal_health</th>\n",
              "      <td>2126.0</td>\n",
              "      <td>1.304327</td>\n",
              "      <td>0.614377</td>\n",
              "      <td>1.0</td>\n",
              "      <td>1.000</td>\n",
              "      <td>1.000</td>\n",
              "      <td>1.000</td>\n",
              "      <td>3.000</td>\n",
              "    </tr>\n",
              "  </tbody>\n",
              "</table>\n",
              "</div>"
            ],
            "text/plain": [
              "                                                     count  ...      max\n",
              "baseline value                                      2126.0  ...  160.000\n",
              "accelerations                                       2126.0  ...    0.019\n",
              "fetal_movement                                      2126.0  ...    0.481\n",
              "uterine_contractions                                2126.0  ...    0.015\n",
              "light_decelerations                                 2126.0  ...    0.015\n",
              "severe_decelerations                                2126.0  ...    0.001\n",
              "prolongued_decelerations                            2126.0  ...    0.005\n",
              "abnormal_short_term_variability                     2126.0  ...   87.000\n",
              "mean_value_of_short_term_variability                2126.0  ...    7.000\n",
              "percentage_of_time_with_abnormal_long_term_vari...  2126.0  ...   91.000\n",
              "mean_value_of_long_term_variability                 2126.0  ...   50.700\n",
              "histogram_width                                     2126.0  ...  180.000\n",
              "histogram_min                                       2126.0  ...  159.000\n",
              "histogram_max                                       2126.0  ...  238.000\n",
              "histogram_number_of_peaks                           2126.0  ...   18.000\n",
              "histogram_number_of_zeroes                          2126.0  ...   10.000\n",
              "histogram_mode                                      2126.0  ...  187.000\n",
              "histogram_mean                                      2126.0  ...  182.000\n",
              "histogram_median                                    2126.0  ...  186.000\n",
              "histogram_variance                                  2126.0  ...  269.000\n",
              "histogram_tendency                                  2126.0  ...    1.000\n",
              "fetal_health                                        2126.0  ...    3.000\n",
              "\n",
              "[22 rows x 8 columns]"
            ]
          },
          "metadata": {
            "tags": []
          },
          "execution_count": 3
        }
      ]
    },
    {
      "cell_type": "code",
      "metadata": {
        "id": "ymmBmJ1DKr56",
        "colab": {
          "base_uri": "https://localhost:8080/"
        },
        "outputId": "95e252de-18d0-4471-a988-e90c347c1415"
      },
      "source": [
        "data.shape"
      ],
      "execution_count": null,
      "outputs": [
        {
          "output_type": "execute_result",
          "data": {
            "text/plain": [
              "(2126, 22)"
            ]
          },
          "metadata": {
            "tags": []
          },
          "execution_count": 4
        }
      ]
    },
    {
      "cell_type": "markdown",
      "metadata": {
        "id": "WxaSiccdiJg1"
      },
      "source": [
        "Terlihat data memiliki jumlah sampel sebanyak 2126 dan variabel X sebanyak 21 dan variabel Y sebanyak 1 buah dengan kolom fetal_health"
      ]
    },
    {
      "cell_type": "markdown",
      "metadata": {
        "id": "zT4dtmDFiWRV"
      },
      "source": [
        "Proses dibawah ini merupakan pencarian data yang hilang atau tidak lengkap"
      ]
    },
    {
      "cell_type": "code",
      "metadata": {
        "id": "3sw6TNg6KvSZ",
        "colab": {
          "base_uri": "https://localhost:8080/"
        },
        "outputId": "db89f269-d746-4b4c-9810-ad38226181ad"
      },
      "source": [
        "# Count the missing and null values for dataset fetal healt.\n",
        "miss_values = data.columns[data.isnull().any()]\n",
        "print(f\"Missing values:\\n{data[miss_values].isnull().sum()}\")\n",
        "\n",
        "null_values = data.columns[data.isna().any()]\n",
        "print(f\"Null values:\\n{data[null_values].isna().sum()}\")"
      ],
      "execution_count": null,
      "outputs": [
        {
          "output_type": "stream",
          "text": [
            "Missing values:\n",
            "Series([], dtype: float64)\n",
            "Null values:\n",
            "Series([], dtype: float64)\n"
          ],
          "name": "stdout"
        }
      ]
    },
    {
      "cell_type": "code",
      "metadata": {
        "id": "dhNfHWgZK47q",
        "colab": {
          "base_uri": "https://localhost:8080/",
          "height": 967
        },
        "outputId": "6be7e3b5-eb56-44ad-856a-9365140f5506"
      },
      "source": [
        "# Null count analysis\n",
        "null_plot = msno.bar(data, color = \"#5F9EA0\")"
      ],
      "execution_count": null,
      "outputs": [
        {
          "output_type": "display_data",
          "data": {
            "image/png": "[encoded data removed]",
            "text/plain": [
              "<Figure size 1728x720 with 3 Axes>"
            ]
          },
          "metadata": {
            "tags": [],
            "needs_background": "light"
          }
        }
      ]
    },
    {
      "cell_type": "markdown",
      "metadata": {
        "id": "B1wm_wKlib4H"
      },
      "source": [
        "Pada hasil pencarian di atas dapat dikatakan bahwa data yang bagus, karena tidak ada data yang hilang"
      ]
    },
    {
      "cell_type": "code",
      "metadata": {
        "id": "4iAQMzZbLI4W",
        "colab": {
          "base_uri": "https://localhost:8080/",
          "height": 459
        },
        "outputId": "9df500f7-5ae7-4958-c3ec-2c0df62a2c63"
      },
      "source": [
        "plt.figure(figsize=(14, 7))\n",
        "plt.title('Total Each Case')\n",
        "sns.countplot(x = data['fetal_health'])\n",
        "plt.show()"
      ],
      "execution_count": null,
      "outputs": [
        {
          "output_type": "display_data",
          "data": {
            "image/png": "[encoded data removed]",
            "text/plain": [
              "<Figure size 1008x504 with 1 Axes>"
            ]
          },
          "metadata": {
            "tags": [],
            "needs_background": "light"
          }
        }
      ]
    },
    {
      "cell_type": "markdown",
      "metadata": {
        "id": "D_i2uOCjiotM"
      },
      "source": [
        "Pada grafik di atas, data yang diambil dari kaggle didominasi oleh Normal(1.0), kemudian Suspect (2.0), dan Pathological(3.0)"
      ]
    },
    {
      "cell_type": "code",
      "metadata": {
        "id": "Dcwt5L2uLZeG",
        "colab": {
          "base_uri": "https://localhost:8080/",
          "height": 1000
        },
        "outputId": "fab8309c-5220-4f2f-c061-6019bbfeed96"
      },
      "source": [
        "data_hist_plot = data.hist(figsize = (20,20), color = \"#5F9EA0\")"
      ],
      "execution_count": null,
      "outputs": [
        {
          "output_type": "display_data",
          "data": {
            "image/png": "[encoded data removed]",
            "text/plain": [
              "<Figure size 1440x1440 with 25 Axes>"
            ]
          },
          "metadata": {
            "tags": [],
            "needs_background": "light"
          }
        }
      ]
    },
    {
      "cell_type": "markdown",
      "metadata": {
        "id": "7SQIKStMi5Tr"
      },
      "source": [
        "Pada histogram di atas dapat dipelajari bahwa data yang mempunyai 3 jenis skewness:\r\n",
        "\r\n",
        "\r\n",
        "1.   Negatif: Atau nama lain left-skewed distribution. Mempunyai distribusi negatif, karena ada ekor panjang yang mengarah kepada arah negatif pada garis angkanya.  \r\n",
        "2.   Positif: Atau nama lain right-skewed distribution. Mempunyai distribusi positif, karena ada ekor panjang yang mengarah kepada arah positif pada garis angkanya. \r\n",
        "3.   Normal: Skewness untuk distribusi normal mempunyai bentuk seperti lonceng\r\n"
      ]
    },
    {
      "cell_type": "code",
      "metadata": {
        "id": "dSrWFARbLi4g",
        "colab": {
          "base_uri": "https://localhost:8080/",
          "height": 460
        },
        "outputId": "bf608cd2-b500-433b-b51e-4158ace8a668"
      },
      "source": [
        "numeric_data = data.select_dtypes(exclude=\"object\")\n",
        "numeric_corr = numeric_data.corr()\n",
        "Num_feature = numeric_corr[\"fetal_health\"].sort_values(ascending=False).head(20).to_frame()\n",
        "\n",
        "cm = sns.light_palette(\"#5F9EA0\", as_cmap=True)\n",
        "\n",
        "style = Num_feature.style.background_gradient(cmap=cm)\n",
        "style"
      ],
      "execution_count": null,
      "outputs": [
        {
          "output_type": "execute_result",
          "data": {
            "text/html": [
              "<style  type=\"text/css\" >\n",
              "#T_cd2c2f5c_4066_11eb_9f20_0242ac1c0002row0_col0{\n",
              "            background-color:  #5f9ea0;\n",
              "            color:  #000000;\n",
              "        }#T_cd2c2f5c_4066_11eb_9f20_0242ac1c0002row1_col0{\n",
              "            background-color:  #9ac1c2;\n",
              "            color:  #000000;\n",
              "        }#T_cd2c2f5c_4066_11eb_9f20_0242ac1c0002row2_col0{\n",
              "            background-color:  #9cc2c3;\n",
              "            color:  #000000;\n",
              "        }#T_cd2c2f5c_4066_11eb_9f20_0242ac1c0002row3_col0{\n",
              "            background-color:  #a1c5c6;\n",
              "            color:  #000000;\n",
              "        }#T_cd2c2f5c_4066_11eb_9f20_0242ac1c0002row4_col0{\n",
              "            background-color:  #bad4d5;\n",
              "            color:  #000000;\n",
              "        }#T_cd2c2f5c_4066_11eb_9f20_0242ac1c0002row5_col0{\n",
              "            background-color:  #c1d8d9;\n",
              "            color:  #000000;\n",
              "        }#T_cd2c2f5c_4066_11eb_9f20_0242ac1c0002row6_col0{\n",
              "            background-color:  #c3d9da;\n",
              "            color:  #000000;\n",
              "        }#T_cd2c2f5c_4066_11eb_9f20_0242ac1c0002row7_col0{\n",
              "            background-color:  #c8dcdd;\n",
              "            color:  #000000;\n",
              "        }#T_cd2c2f5c_4066_11eb_9f20_0242ac1c0002row8_col0{\n",
              "            background-color:  #cbdedf;\n",
              "            color:  #000000;\n",
              "        }#T_cd2c2f5c_4066_11eb_9f20_0242ac1c0002row9_col0{\n",
              "            background-color:  #ccdedf;\n",
              "            color:  #000000;\n",
              "        }#T_cd2c2f5c_4066_11eb_9f20_0242ac1c0002row10_col0{\n",
              "            background-color:  #d4e4e4;\n",
              "            color:  #000000;\n",
              "        }#T_cd2c2f5c_4066_11eb_9f20_0242ac1c0002row11_col0{\n",
              "            background-color:  #d5e4e4;\n",
              "            color:  #000000;\n",
              "        }#T_cd2c2f5c_4066_11eb_9f20_0242ac1c0002row12_col0{\n",
              "            background-color:  #d8e6e6;\n",
              "            color:  #000000;\n",
              "        }#T_cd2c2f5c_4066_11eb_9f20_0242ac1c0002row13_col0{\n",
              "            background-color:  #dae7e7;\n",
              "            color:  #000000;\n",
              "        }#T_cd2c2f5c_4066_11eb_9f20_0242ac1c0002row14_col0{\n",
              "            background-color:  #deeaea;\n",
              "            color:  #000000;\n",
              "        }#T_cd2c2f5c_4066_11eb_9f20_0242ac1c0002row15_col0{\n",
              "            background-color:  #e2ebec;\n",
              "            color:  #000000;\n",
              "        }#T_cd2c2f5c_4066_11eb_9f20_0242ac1c0002row16_col0,#T_cd2c2f5c_4066_11eb_9f20_0242ac1c0002row17_col0{\n",
              "            background-color:  #eaf0f1;\n",
              "            color:  #000000;\n",
              "        }#T_cd2c2f5c_4066_11eb_9f20_0242ac1c0002row18_col0,#T_cd2c2f5c_4066_11eb_9f20_0242ac1c0002row19_col0{\n",
              "            background-color:  #ecf2f2;\n",
              "            color:  #000000;\n",
              "        }</style><table id=\"T_cd2c2f5c_4066_11eb_9f20_0242ac1c0002\" ><thead>    <tr>        <th class=\"blank level0\" ></th>        <th class=\"col_heading level0 col0\" >fetal_health</th>    </tr></thead><tbody>\n",
              "                <tr>\n",
              "                        <th id=\"T_cd2c2f5c_4066_11eb_9f20_0242ac1c0002level0_row0\" class=\"row_heading level0 row0\" >fetal_health</th>\n",
              "                        <td id=\"T_cd2c2f5c_4066_11eb_9f20_0242ac1c0002row0_col0\" class=\"data row0 col0\" >1.000000</td>\n",
              "            </tr>\n",
              "            <tr>\n",
              "                        <th id=\"T_cd2c2f5c_4066_11eb_9f20_0242ac1c0002level0_row1\" class=\"row_heading level0 row1\" >prolongued_decelerations</th>\n",
              "                        <td id=\"T_cd2c2f5c_4066_11eb_9f20_0242ac1c0002row1_col0\" class=\"data row1 col0\" >0.484859</td>\n",
              "            </tr>\n",
              "            <tr>\n",
              "                        <th id=\"T_cd2c2f5c_4066_11eb_9f20_0242ac1c0002level0_row2\" class=\"row_heading level0 row2\" >abnormal_short_term_variability</th>\n",
              "                        <td id=\"T_cd2c2f5c_4066_11eb_9f20_0242ac1c0002row2_col0\" class=\"data row2 col0\" >0.471191</td>\n",
              "            </tr>\n",
              "            <tr>\n",
              "                        <th id=\"T_cd2c2f5c_4066_11eb_9f20_0242ac1c0002level0_row3\" class=\"row_heading level0 row3\" >percentage_of_time_with_abnormal_long_term_variability</th>\n",
              "                        <td id=\"T_cd2c2f5c_4066_11eb_9f20_0242ac1c0002row3_col0\" class=\"data row3 col0\" >0.426146</td>\n",
              "            </tr>\n",
              "            <tr>\n",
              "                        <th id=\"T_cd2c2f5c_4066_11eb_9f20_0242ac1c0002level0_row4\" class=\"row_heading level0 row4\" >histogram_variance</th>\n",
              "                        <td id=\"T_cd2c2f5c_4066_11eb_9f20_0242ac1c0002row4_col0\" class=\"data row4 col0\" >0.206630</td>\n",
              "            </tr>\n",
              "            <tr>\n",
              "                        <th id=\"T_cd2c2f5c_4066_11eb_9f20_0242ac1c0002level0_row5\" class=\"row_heading level0 row5\" >baseline value</th>\n",
              "                        <td id=\"T_cd2c2f5c_4066_11eb_9f20_0242ac1c0002row5_col0\" class=\"data row5 col0\" >0.148151</td>\n",
              "            </tr>\n",
              "            <tr>\n",
              "                        <th id=\"T_cd2c2f5c_4066_11eb_9f20_0242ac1c0002level0_row6\" class=\"row_heading level0 row6\" >severe_decelerations</th>\n",
              "                        <td id=\"T_cd2c2f5c_4066_11eb_9f20_0242ac1c0002row6_col0\" class=\"data row6 col0\" >0.131934</td>\n",
              "            </tr>\n",
              "            <tr>\n",
              "                        <th id=\"T_cd2c2f5c_4066_11eb_9f20_0242ac1c0002level0_row7\" class=\"row_heading level0 row7\" >fetal_movement</th>\n",
              "                        <td id=\"T_cd2c2f5c_4066_11eb_9f20_0242ac1c0002row7_col0\" class=\"data row7 col0\" >0.088010</td>\n",
              "            </tr>\n",
              "            <tr>\n",
              "                        <th id=\"T_cd2c2f5c_4066_11eb_9f20_0242ac1c0002level0_row8\" class=\"row_heading level0 row8\" >histogram_min</th>\n",
              "                        <td id=\"T_cd2c2f5c_4066_11eb_9f20_0242ac1c0002row8_col0\" class=\"data row8 col0\" >0.063175</td>\n",
              "            </tr>\n",
              "            <tr>\n",
              "                        <th id=\"T_cd2c2f5c_4066_11eb_9f20_0242ac1c0002level0_row9\" class=\"row_heading level0 row9\" >light_decelerations</th>\n",
              "                        <td id=\"T_cd2c2f5c_4066_11eb_9f20_0242ac1c0002row9_col0\" class=\"data row9 col0\" >0.058870</td>\n",
              "            </tr>\n",
              "            <tr>\n",
              "                        <th id=\"T_cd2c2f5c_4066_11eb_9f20_0242ac1c0002level0_row10\" class=\"row_heading level0 row10\" >histogram_number_of_zeroes</th>\n",
              "                        <td id=\"T_cd2c2f5c_4066_11eb_9f20_0242ac1c0002row10_col0\" class=\"data row10 col0\" >-0.016682</td>\n",
              "            </tr>\n",
              "            <tr>\n",
              "                        <th id=\"T_cd2c2f5c_4066_11eb_9f20_0242ac1c0002level0_row11\" class=\"row_heading level0 row11\" >histogram_number_of_peaks</th>\n",
              "                        <td id=\"T_cd2c2f5c_4066_11eb_9f20_0242ac1c0002row11_col0\" class=\"data row11 col0\" >-0.023666</td>\n",
              "            </tr>\n",
              "            <tr>\n",
              "                        <th id=\"T_cd2c2f5c_4066_11eb_9f20_0242ac1c0002level0_row12\" class=\"row_heading level0 row12\" >histogram_max</th>\n",
              "                        <td id=\"T_cd2c2f5c_4066_11eb_9f20_0242ac1c0002row12_col0\" class=\"data row12 col0\" >-0.045265</td>\n",
              "            </tr>\n",
              "            <tr>\n",
              "                        <th id=\"T_cd2c2f5c_4066_11eb_9f20_0242ac1c0002level0_row13\" class=\"row_heading level0 row13\" >histogram_width</th>\n",
              "                        <td id=\"T_cd2c2f5c_4066_11eb_9f20_0242ac1c0002row13_col0\" class=\"data row13 col0\" >-0.068789</td>\n",
              "            </tr>\n",
              "            <tr>\n",
              "                        <th id=\"T_cd2c2f5c_4066_11eb_9f20_0242ac1c0002level0_row14\" class=\"row_heading level0 row14\" >mean_value_of_short_term_variability</th>\n",
              "                        <td id=\"T_cd2c2f5c_4066_11eb_9f20_0242ac1c0002row14_col0\" class=\"data row14 col0\" >-0.103382</td>\n",
              "            </tr>\n",
              "            <tr>\n",
              "                        <th id=\"T_cd2c2f5c_4066_11eb_9f20_0242ac1c0002level0_row15\" class=\"row_heading level0 row15\" >histogram_tendency</th>\n",
              "                        <td id=\"T_cd2c2f5c_4066_11eb_9f20_0242ac1c0002row15_col0\" class=\"data row15 col0\" >-0.131976</td>\n",
              "            </tr>\n",
              "            <tr>\n",
              "                        <th id=\"T_cd2c2f5c_4066_11eb_9f20_0242ac1c0002level0_row16\" class=\"row_heading level0 row16\" >uterine_contractions</th>\n",
              "                        <td id=\"T_cd2c2f5c_4066_11eb_9f20_0242ac1c0002row16_col0\" class=\"data row16 col0\" >-0.204894</td>\n",
              "            </tr>\n",
              "            <tr>\n",
              "                        <th id=\"T_cd2c2f5c_4066_11eb_9f20_0242ac1c0002level0_row17\" class=\"row_heading level0 row17\" >histogram_median</th>\n",
              "                        <td id=\"T_cd2c2f5c_4066_11eb_9f20_0242ac1c0002row17_col0\" class=\"data row17 col0\" >-0.205033</td>\n",
              "            </tr>\n",
              "            <tr>\n",
              "                        <th id=\"T_cd2c2f5c_4066_11eb_9f20_0242ac1c0002level0_row18\" class=\"row_heading level0 row18\" >mean_value_of_long_term_variability</th>\n",
              "                        <td id=\"T_cd2c2f5c_4066_11eb_9f20_0242ac1c0002row18_col0\" class=\"data row18 col0\" >-0.226797</td>\n",
              "            </tr>\n",
              "            <tr>\n",
              "                        <th id=\"T_cd2c2f5c_4066_11eb_9f20_0242ac1c0002level0_row19\" class=\"row_heading level0 row19\" >histogram_mean</th>\n",
              "                        <td id=\"T_cd2c2f5c_4066_11eb_9f20_0242ac1c0002row19_col0\" class=\"data row19 col0\" >-0.226985</td>\n",
              "            </tr>\n",
              "    </tbody></table>"
            ],
            "text/plain": [
              "<pandas.io.formats.style.Styler at 0x7fb95cf6fc50>"
            ]
          },
          "metadata": {
            "tags": []
          },
          "execution_count": 9
        }
      ]
    },
    {
      "cell_type": "code",
      "metadata": {
        "id": "UCXCTd-bL0bB",
        "colab": {
          "base_uri": "https://localhost:8080/",
          "height": 873
        },
        "outputId": "5e656fbd-f22e-48a2-8218-ac3a4b8fd4d4"
      },
      "source": [
        "# Set the size of figure to 12 by 10.\n",
        "plt.figure(figsize=(12,10))  \n",
        "\n",
        "# Seaborn has very simple solution for heatmap\n",
        "p=sns.heatmap(data.corr(), annot=True)"
      ],
      "execution_count": null,
      "outputs": [
        {
          "output_type": "display_data",
          "data": {
            "image/png": "[encoded data removed]",
            "text/plain": [
              "<Figure size 864x720 with 2 Axes>"
            ]
          },
          "metadata": {
            "tags": [],
            "needs_background": "light"
          }
        }
      ]
    },
    {
      "cell_type": "markdown",
      "metadata": {
        "id": "Pt4s8wfSLwHB"
      },
      "source": [
        "Tabel di atas (seaborn palet warna dan heatmap) menunjukkan seberapa besar nilai hubungan antara variabel fitur dan output. Dapat dilihat bahwa tiga fitur: \"prolongued_decelerations\", \"abnormal_short_term_variability\", \"percentage_of_time_with_abnormal_long_term_variability\" mempunyai korelasi yang tinggu dengan variabel output (fetal_health).\n"
      ]
    },
    {
      "cell_type": "markdown",
      "metadata": {
        "id": "tbtW1iGrhkjs"
      },
      "source": [
        "# **Normalisasi dan Standarisasi**\r\n",
        "\r\n",
        "Normalisasi merupakan proses mengukur atribut sehingga nilainya berada dalam rentang nilai yang lebih kecil. Sementara standardisasi adalah proses menjadikan variabel-variabel menjadi skala yang sama."
      ]
    },
    {
      "cell_type": "code",
      "metadata": {
        "id": "_WSNK3kpMQWb"
      },
      "source": [
        "columns = ['baseline value', 'accelerations', 'fetal_movement',\n",
        "       'uterine_contractions', 'light_decelerations', 'severe_decelerations',\n",
        "       'prolongued_decelerations', 'abnormal_short_term_variability',\n",
        "       'mean_value_of_short_term_variability',\n",
        "       'percentage_of_time_with_abnormal_long_term_variability',\n",
        "       'mean_value_of_long_term_variability', 'histogram_width',\n",
        "       'histogram_min', 'histogram_max', 'histogram_number_of_peaks',\n",
        "       'histogram_number_of_zeroes', 'histogram_mode', 'histogram_mean',\n",
        "       'histogram_median', 'histogram_variance', 'histogram_tendency']\n",
        "scale_X = StandardScaler()\n",
        "X =  pd.DataFrame(scale_X.fit_transform(data.drop([\"fetal_health\"],axis = 1),), columns = columns)"
      ],
      "execution_count": null,
      "outputs": []
    },
    {
      "cell_type": "code",
      "metadata": {
        "id": "7qRIEG1WMp79",
        "colab": {
          "base_uri": "https://localhost:8080/",
          "height": 551
        },
        "outputId": "a1d65fce-60b5-4439-ce72-6aca4a69e752"
      },
      "source": [
        "X.head(15)"
      ],
      "execution_count": null,
      "outputs": [
        {
          "output_type": "execute_result",
          "data": {
            "text/html": [
              "<div>\n",
              "<style scoped>\n",
              "    .dataframe tbody tr th:only-of-type {\n",
              "        vertical-align: middle;\n",
              "    }\n",
              "\n",
              "    .dataframe tbody tr th {\n",
              "        vertical-align: top;\n",
              "    }\n",
              "\n",
              "    .dataframe thead th {\n",
              "        text-align: right;\n",
              "    }\n",
              "</style>\n",
              "<table border=\"1\" class=\"dataframe\">\n",
              "  <thead>\n",
              "    <tr style=\"text-align: right;\">\n",
              "      <th></th>\n",
              "      <th>baseline value</th>\n",
              "      <th>accelerations</th>\n",
              "      <th>fetal_movement</th>\n",
              "      <th>uterine_contractions</th>\n",
              "      <th>light_decelerations</th>\n",
              "      <th>severe_decelerations</th>\n",
              "      <th>prolongued_decelerations</th>\n",
              "      <th>abnormal_short_term_variability</th>\n",
              "      <th>mean_value_of_short_term_variability</th>\n",
              "      <th>percentage_of_time_with_abnormal_long_term_variability</th>\n",
              "      <th>mean_value_of_long_term_variability</th>\n",
              "      <th>histogram_width</th>\n",
              "      <th>histogram_min</th>\n",
              "      <th>histogram_max</th>\n",
              "      <th>histogram_number_of_peaks</th>\n",
              "      <th>histogram_number_of_zeroes</th>\n",
              "      <th>histogram_mode</th>\n",
              "      <th>histogram_mean</th>\n",
              "      <th>histogram_median</th>\n",
              "      <th>histogram_variance</th>\n",
              "      <th>histogram_tendency</th>\n",
              "    </tr>\n",
              "  </thead>\n",
              "  <tbody>\n",
              "    <tr>\n",
              "      <th>0</th>\n",
              "      <td>-1.352220</td>\n",
              "      <td>-0.822388</td>\n",
              "      <td>-0.203210</td>\n",
              "      <td>-1.482465</td>\n",
              "      <td>-0.638438</td>\n",
              "      <td>-0.057476</td>\n",
              "      <td>-0.268754</td>\n",
              "      <td>1.513190</td>\n",
              "      <td>-0.943095</td>\n",
              "      <td>1.802542</td>\n",
              "      <td>-1.028560</td>\n",
              "      <td>-0.165507</td>\n",
              "      <td>-1.068562</td>\n",
              "      <td>-2.119592</td>\n",
              "      <td>-0.701397</td>\n",
              "      <td>-0.458444</td>\n",
              "      <td>-1.065614</td>\n",
              "      <td>0.153270</td>\n",
              "      <td>-1.181642</td>\n",
              "      <td>1.870569</td>\n",
              "      <td>1.112980</td>\n",
              "    </tr>\n",
              "    <tr>\n",
              "      <th>1</th>\n",
              "      <td>-0.132526</td>\n",
              "      <td>0.730133</td>\n",
              "      <td>-0.203210</td>\n",
              "      <td>0.554627</td>\n",
              "      <td>0.375243</td>\n",
              "      <td>-0.057476</td>\n",
              "      <td>-0.268754</td>\n",
              "      <td>-1.744751</td>\n",
              "      <td>0.868841</td>\n",
              "      <td>-0.535361</td>\n",
              "      <td>0.393176</td>\n",
              "      <td>1.529124</td>\n",
              "      <td>-0.865539</td>\n",
              "      <td>1.893794</td>\n",
              "      <td>0.655137</td>\n",
              "      <td>0.958201</td>\n",
              "      <td>0.216638</td>\n",
              "      <td>0.089126</td>\n",
              "      <td>0.132038</td>\n",
              "      <td>-0.234998</td>\n",
              "      <td>-0.524526</td>\n",
              "    </tr>\n",
              "    <tr>\n",
              "      <th>2</th>\n",
              "      <td>-0.030884</td>\n",
              "      <td>-0.046128</td>\n",
              "      <td>-0.203210</td>\n",
              "      <td>1.233657</td>\n",
              "      <td>0.375243</td>\n",
              "      <td>-0.057476</td>\n",
              "      <td>-0.268754</td>\n",
              "      <td>-1.802928</td>\n",
              "      <td>0.868841</td>\n",
              "      <td>-0.535361</td>\n",
              "      <td>0.926327</td>\n",
              "      <td>1.529124</td>\n",
              "      <td>-0.865539</td>\n",
              "      <td>1.893794</td>\n",
              "      <td>0.316003</td>\n",
              "      <td>0.958201</td>\n",
              "      <td>0.216638</td>\n",
              "      <td>0.024982</td>\n",
              "      <td>-0.006244</td>\n",
              "      <td>-0.200481</td>\n",
              "      <td>-0.524526</td>\n",
              "    </tr>\n",
              "    <tr>\n",
              "      <th>3</th>\n",
              "      <td>0.070757</td>\n",
              "      <td>-0.046128</td>\n",
              "      <td>-0.203210</td>\n",
              "      <td>1.233657</td>\n",
              "      <td>0.375243</td>\n",
              "      <td>-0.057476</td>\n",
              "      <td>-0.268754</td>\n",
              "      <td>-1.802928</td>\n",
              "      <td>1.208579</td>\n",
              "      <td>-0.535361</td>\n",
              "      <td>2.632411</td>\n",
              "      <td>1.195333</td>\n",
              "      <td>-1.373097</td>\n",
              "      <td>0.333033</td>\n",
              "      <td>2.350804</td>\n",
              "      <td>-0.458444</td>\n",
              "      <td>-0.027600</td>\n",
              "      <td>-0.039162</td>\n",
              "      <td>-0.075385</td>\n",
              "      <td>-0.200481</td>\n",
              "      <td>1.112980</td>\n",
              "    </tr>\n",
              "    <tr>\n",
              "      <th>4</th>\n",
              "      <td>-0.132526</td>\n",
              "      <td>0.988886</td>\n",
              "      <td>-0.203210</td>\n",
              "      <td>1.233657</td>\n",
              "      <td>-0.638438</td>\n",
              "      <td>-0.057476</td>\n",
              "      <td>-0.268754</td>\n",
              "      <td>-1.802928</td>\n",
              "      <td>1.208579</td>\n",
              "      <td>-0.535361</td>\n",
              "      <td>2.081488</td>\n",
              "      <td>1.195333</td>\n",
              "      <td>-1.373097</td>\n",
              "      <td>0.333033</td>\n",
              "      <td>1.672537</td>\n",
              "      <td>-0.458444</td>\n",
              "      <td>-0.027600</td>\n",
              "      <td>0.089126</td>\n",
              "      <td>-0.006244</td>\n",
              "      <td>-0.269516</td>\n",
              "      <td>1.112980</td>\n",
              "    </tr>\n",
              "    <tr>\n",
              "      <th>5</th>\n",
              "      <td>0.070757</td>\n",
              "      <td>-0.563635</td>\n",
              "      <td>-0.203210</td>\n",
              "      <td>1.912687</td>\n",
              "      <td>2.402604</td>\n",
              "      <td>-0.057476</td>\n",
              "      <td>3.122175</td>\n",
              "      <td>-1.221153</td>\n",
              "      <td>5.172188</td>\n",
              "      <td>-0.535361</td>\n",
              "      <td>-1.455081</td>\n",
              "      <td>2.042649</td>\n",
              "      <td>-1.474609</td>\n",
              "      <td>2.005277</td>\n",
              "      <td>0.316003</td>\n",
              "      <td>3.791490</td>\n",
              "      <td>-3.752237</td>\n",
              "      <td>-1.771050</td>\n",
              "      <td>-2.149617</td>\n",
              "      <td>5.218765</td>\n",
              "      <td>-0.524526</td>\n",
              "    </tr>\n",
              "    <tr>\n",
              "      <th>6</th>\n",
              "      <td>0.070757</td>\n",
              "      <td>-0.563635</td>\n",
              "      <td>-0.203210</td>\n",
              "      <td>2.931233</td>\n",
              "      <td>2.064711</td>\n",
              "      <td>-0.057476</td>\n",
              "      <td>4.817640</td>\n",
              "      <td>-1.046621</td>\n",
              "      <td>5.625172</td>\n",
              "      <td>-0.535361</td>\n",
              "      <td>-1.455081</td>\n",
              "      <td>2.042649</td>\n",
              "      <td>-1.474609</td>\n",
              "      <td>2.005277</td>\n",
              "      <td>0.655137</td>\n",
              "      <td>3.791490</td>\n",
              "      <td>-4.057535</td>\n",
              "      <td>-1.771050</td>\n",
              "      <td>-2.218758</td>\n",
              "      <td>6.772052</td>\n",
              "      <td>-0.524526</td>\n",
              "    </tr>\n",
              "    <tr>\n",
              "      <th>7</th>\n",
              "      <td>-1.148938</td>\n",
              "      <td>-0.822388</td>\n",
              "      <td>-0.203210</td>\n",
              "      <td>-1.482465</td>\n",
              "      <td>-0.638438</td>\n",
              "      <td>-0.057476</td>\n",
              "      <td>-0.268754</td>\n",
              "      <td>2.094965</td>\n",
              "      <td>-0.943095</td>\n",
              "      <td>-0.209142</td>\n",
              "      <td>1.317304</td>\n",
              "      <td>-0.062802</td>\n",
              "      <td>-1.068562</td>\n",
              "      <td>-1.896626</td>\n",
              "      <td>-1.379664</td>\n",
              "      <td>-0.458444</td>\n",
              "      <td>-0.943495</td>\n",
              "      <td>-0.808890</td>\n",
              "      <td>-1.043360</td>\n",
              "      <td>-0.545656</td>\n",
              "      <td>1.112980</td>\n",
              "    </tr>\n",
              "    <tr>\n",
              "      <th>8</th>\n",
              "      <td>-1.148938</td>\n",
              "      <td>-0.822388</td>\n",
              "      <td>-0.203210</td>\n",
              "      <td>-0.803434</td>\n",
              "      <td>-0.638438</td>\n",
              "      <td>-0.057476</td>\n",
              "      <td>-0.268754</td>\n",
              "      <td>2.153143</td>\n",
              "      <td>-0.943095</td>\n",
              "      <td>-0.263512</td>\n",
              "      <td>0.961870</td>\n",
              "      <td>-0.062802</td>\n",
              "      <td>-1.068562</td>\n",
              "      <td>-1.896626</td>\n",
              "      <td>-1.379664</td>\n",
              "      <td>-0.458444</td>\n",
              "      <td>-0.943495</td>\n",
              "      <td>-0.808890</td>\n",
              "      <td>-1.043360</td>\n",
              "      <td>-0.545656</td>\n",
              "      <td>1.112980</td>\n",
              "    </tr>\n",
              "    <tr>\n",
              "      <th>9</th>\n",
              "      <td>-1.148938</td>\n",
              "      <td>-0.822388</td>\n",
              "      <td>-0.203210</td>\n",
              "      <td>-0.463919</td>\n",
              "      <td>-0.638438</td>\n",
              "      <td>-0.057476</td>\n",
              "      <td>-0.268754</td>\n",
              "      <td>2.269498</td>\n",
              "      <td>-1.169587</td>\n",
              "      <td>-0.209142</td>\n",
              "      <td>0.428719</td>\n",
              "      <td>-0.062802</td>\n",
              "      <td>-1.068562</td>\n",
              "      <td>-1.896626</td>\n",
              "      <td>-1.040530</td>\n",
              "      <td>-0.458444</td>\n",
              "      <td>-0.943495</td>\n",
              "      <td>-0.808890</td>\n",
              "      <td>-1.043360</td>\n",
              "      <td>-0.614691</td>\n",
              "      <td>1.112980</td>\n",
              "    </tr>\n",
              "    <tr>\n",
              "      <th>10</th>\n",
              "      <td>1.798657</td>\n",
              "      <td>-0.822388</td>\n",
              "      <td>-0.203210</td>\n",
              "      <td>-1.142949</td>\n",
              "      <td>-0.300544</td>\n",
              "      <td>-0.057476</td>\n",
              "      <td>-0.268754</td>\n",
              "      <td>0.989593</td>\n",
              "      <td>0.642349</td>\n",
              "      <td>-0.046033</td>\n",
              "      <td>3.449909</td>\n",
              "      <td>1.529124</td>\n",
              "      <td>-1.271585</td>\n",
              "      <td>1.224897</td>\n",
              "      <td>-0.701397</td>\n",
              "      <td>-0.458444</td>\n",
              "      <td>0.766175</td>\n",
              "      <td>0.858853</td>\n",
              "      <td>0.892590</td>\n",
              "      <td>-0.338551</td>\n",
              "      <td>1.112980</td>\n",
              "    </tr>\n",
              "    <tr>\n",
              "      <th>11</th>\n",
              "      <td>1.697016</td>\n",
              "      <td>-0.822388</td>\n",
              "      <td>-0.203210</td>\n",
              "      <td>-1.142949</td>\n",
              "      <td>-0.300544</td>\n",
              "      <td>-0.057476</td>\n",
              "      <td>-0.268754</td>\n",
              "      <td>0.989593</td>\n",
              "      <td>0.755595</td>\n",
              "      <td>-0.100403</td>\n",
              "      <td>3.787571</td>\n",
              "      <td>1.529124</td>\n",
              "      <td>-1.271585</td>\n",
              "      <td>1.224897</td>\n",
              "      <td>0.316003</td>\n",
              "      <td>-0.458444</td>\n",
              "      <td>0.766175</td>\n",
              "      <td>0.858853</td>\n",
              "      <td>0.892590</td>\n",
              "      <td>-0.304033</td>\n",
              "      <td>1.112980</td>\n",
              "    </tr>\n",
              "    <tr>\n",
              "      <th>12</th>\n",
              "      <td>-0.234167</td>\n",
              "      <td>0.471379</td>\n",
              "      <td>1.340038</td>\n",
              "      <td>1.233657</td>\n",
              "      <td>0.375243</td>\n",
              "      <td>-0.057476</td>\n",
              "      <td>-0.268754</td>\n",
              "      <td>-1.104798</td>\n",
              "      <td>0.076119</td>\n",
              "      <td>-0.535361</td>\n",
              "      <td>0.837469</td>\n",
              "      <td>-0.114154</td>\n",
              "      <td>-0.188794</td>\n",
              "      <td>-0.558831</td>\n",
              "      <td>0.316003</td>\n",
              "      <td>-0.458444</td>\n",
              "      <td>-0.149720</td>\n",
              "      <td>-0.039162</td>\n",
              "      <td>-0.075385</td>\n",
              "      <td>-0.407586</td>\n",
              "      <td>1.112980</td>\n",
              "    </tr>\n",
              "    <tr>\n",
              "      <th>13</th>\n",
              "      <td>-0.234167</td>\n",
              "      <td>1.506393</td>\n",
              "      <td>4.555136</td>\n",
              "      <td>0.554627</td>\n",
              "      <td>0.037349</td>\n",
              "      <td>-0.057476</td>\n",
              "      <td>-0.268754</td>\n",
              "      <td>-1.104798</td>\n",
              "      <td>0.189365</td>\n",
              "      <td>-0.535361</td>\n",
              "      <td>-0.495409</td>\n",
              "      <td>0.425047</td>\n",
              "      <td>-0.764027</td>\n",
              "      <td>-0.335865</td>\n",
              "      <td>-0.701397</td>\n",
              "      <td>-0.458444</td>\n",
              "      <td>0.216638</td>\n",
              "      <td>0.153270</td>\n",
              "      <td>0.201179</td>\n",
              "      <td>-0.304033</td>\n",
              "      <td>1.112980</td>\n",
              "    </tr>\n",
              "    <tr>\n",
              "      <th>14</th>\n",
              "      <td>-0.335808</td>\n",
              "      <td>0.730133</td>\n",
              "      <td>8.541859</td>\n",
              "      <td>-0.124404</td>\n",
              "      <td>1.051030</td>\n",
              "      <td>-0.057476</td>\n",
              "      <td>1.426711</td>\n",
              "      <td>-1.512041</td>\n",
              "      <td>1.095333</td>\n",
              "      <td>-0.535361</td>\n",
              "      <td>-0.051117</td>\n",
              "      <td>0.938571</td>\n",
              "      <td>-0.899376</td>\n",
              "      <td>0.555999</td>\n",
              "      <td>0.994270</td>\n",
              "      <td>-0.458444</td>\n",
              "      <td>0.338757</td>\n",
              "      <td>-0.616458</td>\n",
              "      <td>-0.213667</td>\n",
              "      <td>1.974121</td>\n",
              "      <td>-0.524526</td>\n",
              "    </tr>\n",
              "  </tbody>\n",
              "</table>\n",
              "</div>"
            ],
            "text/plain": [
              "    baseline value  accelerations  ...  histogram_variance  histogram_tendency\n",
              "0        -1.352220      -0.822388  ...            1.870569            1.112980\n",
              "1        -0.132526       0.730133  ...           -0.234998           -0.524526\n",
              "2        -0.030884      -0.046128  ...           -0.200481           -0.524526\n",
              "3         0.070757      -0.046128  ...           -0.200481            1.112980\n",
              "4        -0.132526       0.988886  ...           -0.269516            1.112980\n",
              "5         0.070757      -0.563635  ...            5.218765           -0.524526\n",
              "6         0.070757      -0.563635  ...            6.772052           -0.524526\n",
              "7        -1.148938      -0.822388  ...           -0.545656            1.112980\n",
              "8        -1.148938      -0.822388  ...           -0.545656            1.112980\n",
              "9        -1.148938      -0.822388  ...           -0.614691            1.112980\n",
              "10        1.798657      -0.822388  ...           -0.338551            1.112980\n",
              "11        1.697016      -0.822388  ...           -0.304033            1.112980\n",
              "12       -0.234167       0.471379  ...           -0.407586            1.112980\n",
              "13       -0.234167       1.506393  ...           -0.304033            1.112980\n",
              "14       -0.335808       0.730133  ...            1.974121           -0.524526\n",
              "\n",
              "[15 rows x 21 columns]"
            ]
          },
          "metadata": {
            "tags": []
          },
          "execution_count": 12
        }
      ]
    },
    {
      "cell_type": "code",
      "metadata": {
        "id": "fabmleKSMvd1"
      },
      "source": [
        "y = data[\"fetal_health\"]"
      ],
      "execution_count": null,
      "outputs": []
    },
    {
      "cell_type": "markdown",
      "metadata": {
        "id": "iTZTyVvuMx0n"
      },
      "source": [
        "# **Test Train Split** \r\n",
        "\r\n",
        "Pada tahap ini data dibagi menjadi 80% untuk training dan sisanya 20% untuk data test"
      ]
    },
    {
      "cell_type": "code",
      "metadata": {
        "id": "Yt8pq01uMyTa"
      },
      "source": [
        "# Importing train_test_split\n",
        "X_train, X_test, y_train, y_test = train_test_split(X, y, test_size = 0.2, random_state = 42, stratify = y)"
      ],
      "execution_count": null,
      "outputs": []
    },
    {
      "cell_type": "code",
      "metadata": {
        "id": "D-kflNXeM1a5",
        "colab": {
          "base_uri": "https://localhost:8080/"
        },
        "outputId": "1845dc2e-a45e-4a41-c05e-6f1de57f4376"
      },
      "source": [
        "X_train.shape, X_test.shape, y_train.shape, y_test.shape"
      ],
      "execution_count": null,
      "outputs": [
        {
          "output_type": "execute_result",
          "data": {
            "text/plain": [
              "((1700, 21), (426, 21), (1700,), (426,))"
            ]
          },
          "metadata": {
            "tags": []
          },
          "execution_count": 15
        }
      ]
    },
    {
      "cell_type": "markdown",
      "metadata": {
        "id": "yQRIXVIENLU7"
      },
      "source": [
        "# **Modelling**"
      ]
    },
    {
      "cell_type": "markdown",
      "metadata": {
        "id": "XbzGD-oZuiCb"
      },
      "source": [
        "**K-Nearest Neighbors**\r\n",
        "\r\n",
        "K-nearest neighbors atau KNN adalah algoritma yang berfungsi untuk melakukan klasifikasi suatu data berdasarkan data pembelajaran (train data sets), yang diambil dari k tetangga terdekatnya (nearest neighbors). Dengan k merupakan banyaknya tetangga terdekat. Sehingga pada model ini suatu data akan cenderung mendekati tetangganya yang mempunyai nilai yang sama atau hampir sama, tergantung dari penentuan parameternya. Pada kasus ini kami menggunakan K sebanyak 5."
      ]
    },
    {
      "cell_type": "code",
      "metadata": {
        "id": "pdl1Hi4bNMTg",
        "colab": {
          "base_uri": "https://localhost:8080/"
        },
        "outputId": "316a93d9-4b93-4069-ae65-deb0b4af7d16"
      },
      "source": [
        "#Import knearest neighbors Classifier model\n",
        "from sklearn.neighbors import KNeighborsClassifier\n",
        "\n",
        "#Create KNN Classifier\n",
        "knn = KNeighborsClassifier(n_neighbors=5, weights='uniform', algorithm='auto', leaf_size=30)\n",
        "\n",
        "#Train the model using the training sets\n",
        "knn.fit(X_train, y_train)"
      ],
      "execution_count": null,
      "outputs": [
        {
          "output_type": "execute_result",
          "data": {
            "text/plain": [
              "KNeighborsClassifier(algorithm='auto', leaf_size=30, metric='minkowski',\n",
              "                     metric_params=None, n_jobs=None, n_neighbors=5, p=2,\n",
              "                     weights='uniform')"
            ]
          },
          "metadata": {
            "tags": []
          },
          "execution_count": 16
        }
      ]
    },
    {
      "cell_type": "code",
      "metadata": {
        "id": "tvY06yX9NPpL"
      },
      "source": [
        "#Predict the response for test dataset\n",
        "y_pred_knn = knn.predict(X_test)"
      ],
      "execution_count": null,
      "outputs": []
    },
    {
      "cell_type": "code",
      "metadata": {
        "id": "rNblNVnPNR73",
        "colab": {
          "base_uri": "https://localhost:8080/"
        },
        "outputId": "3125c51b-5d2a-4eb4-85f8-d583c2cc27d4"
      },
      "source": [
        "# Import Module\n",
        "from sklearn import metrics\n",
        "\n",
        "# Show the Confussion Matrix\n",
        "cm_knn = metrics.confusion_matrix(y_test, y_pred_knn)\n",
        "cm_knn"
      ],
      "execution_count": null,
      "outputs": [
        {
          "output_type": "execute_result",
          "data": {
            "text/plain": [
              "array([[321,  10,   1],\n",
              "       [ 29,  28,   2],\n",
              "       [  5,   7,  23]])"
            ]
          },
          "metadata": {
            "tags": []
          },
          "execution_count": 18
        }
      ]
    },
    {
      "cell_type": "code",
      "metadata": {
        "id": "k-c3wgX_NThW",
        "colab": {
          "base_uri": "https://localhost:8080/"
        },
        "outputId": "593199ba-3dde-43e8-ccae-319b0b4d533b"
      },
      "source": [
        "# Show the Accuracy, Precision, Recall\n",
        "acc_knn = metrics.accuracy_score(y_test, y_pred_knn)\n",
        "prec_knn = metrics.precision_score(y_test, y_pred_knn, average='weighted')\n",
        "rec_knn = metrics.recall_score(y_test, y_pred_knn, average='weighted')\n",
        "f1_knn = metrics.f1_score(y_test, y_pred_knn, average='weighted')\n",
        "kappa_knn = metrics.cohen_kappa_score(y_test, y_pred_knn)\n",
        "\n",
        "print(\"Accuracy:\", acc_knn)\n",
        "print(\"Precision:\", prec_knn)\n",
        "print(\"Recall:\", rec_knn)\n",
        "print(\"F1 Score:\", f1_knn)\n",
        "print(\"Cohens Kappa Score:\", kappa_knn)"
      ],
      "execution_count": null,
      "outputs": [
        {
          "output_type": "stream",
          "text": [
            "Accuracy: 0.8732394366197183\n",
            "Precision: 0.8635574330376949\n",
            "Recall: 0.8732394366197183\n",
            "F1 Score: 0.864826170190967\n",
            "Cohens Kappa Score: 0.6169256132287555\n"
          ],
          "name": "stdout"
        }
      ]
    },
    {
      "cell_type": "markdown",
      "metadata": {
        "id": "W5IZiQTLdyIA"
      },
      "source": [
        "**NAIVE BAYES**\r\n",
        "\r\n",
        "Naive Bayes merupakan metode yang menggunakan metode probabilitas. Metode ini termasuk dalam supervised learning. Ciri utama dari model ini adalah asumsi yang bersifat naif. Semua atribut dalam model ini dianggap independen."
      ]
    },
    {
      "cell_type": "code",
      "metadata": {
        "id": "ywJywmj5dxyq"
      },
      "source": [
        "# Import Module\n",
        "from sklearn.naive_bayes import GaussianNB \n",
        "\n",
        "# Modeling Naive Bayes Classifier\n",
        "gnb = GaussianNB()\n",
        "gnb.fit(X_train, y_train)\n",
        "\n",
        "# Predict to Test Data\n",
        "y_pred_gnb= gnb.predict(X_test)"
      ],
      "execution_count": null,
      "outputs": []
    },
    {
      "cell_type": "code",
      "metadata": {
        "id": "0cT_shLjfp8d",
        "colab": {
          "base_uri": "https://localhost:8080/"
        },
        "outputId": "f703e697-bf77-41f9-b1c7-fb54e5c1b031"
      },
      "source": [
        "# Show the Confussion Matrix\n",
        "cm_gnb = metrics.confusion_matrix(y_test, y_pred_gnb)\n",
        "cm_gnb"
      ],
      "execution_count": null,
      "outputs": [
        {
          "output_type": "execute_result",
          "data": {
            "text/plain": [
              "array([[282,  42,   8],\n",
              "       [  6,  47,   6],\n",
              "       [  3,  16,  16]])"
            ]
          },
          "metadata": {
            "tags": []
          },
          "execution_count": 21
        }
      ]
    },
    {
      "cell_type": "code",
      "metadata": {
        "id": "t6oPej3Bftcb",
        "colab": {
          "base_uri": "https://localhost:8080/"
        },
        "outputId": "a92be678-9828-41f6-9fbd-298f6cb19e2c"
      },
      "source": [
        "# Show the Accuracy, Precision, Recall\n",
        "acc_gnb = metrics.accuracy_score(y_test, y_pred_gnb)\n",
        "prec_gnb = metrics.precision_score(y_test, y_pred_gnb, average='weighted')\n",
        "rec_gnb = metrics.recall_score(y_test, y_pred_gnb, average='weighted')\n",
        "f1_gnb = metrics.f1_score(y_test, y_pred_gnb, average='weighted')\n",
        "kappa_gnb = metrics.cohen_kappa_score(y_test, y_pred_gnb)\n",
        "\n",
        "print(\"Accuracy:\", acc_gnb)\n",
        "print(\"Precision:\", prec_gnb)\n",
        "print(\"Recall:\", rec_gnb)\n",
        "print(\"F1 Score:\",f1_gnb)\n",
        "print(\"Cohens Kappa Score:\", kappa_gnb)"
      ],
      "execution_count": null,
      "outputs": [
        {
          "output_type": "stream",
          "text": [
            "Accuracy: 0.8098591549295775\n",
            "Precision: 0.8610519935189603\n",
            "Recall: 0.8098591549295775\n",
            "F1 Score: 0.8253672062944524\n",
            "Cohens Kappa Score: 0.5554438990453368\n"
          ],
          "name": "stdout"
        }
      ]
    },
    {
      "cell_type": "markdown",
      "metadata": {
        "id": "M1KR0fzuwCrd"
      },
      "source": [
        "**RANDOM FOREST**\r\n",
        "\r\n",
        "Model ini merupakan gabungan dari decision tree, yang kemudian digabung menjadi satu model yang dinamakan Random Forest. Random Forest bergantung pada sebuah nilai vector random dengan distribusi yang sama pada semua pohon yang masing masing decision tree memiliki kedalaman yang maksimal."
      ]
    },
    {
      "cell_type": "code",
      "metadata": {
        "id": "c1Eim9ggv18L"
      },
      "source": [
        "# Import Module\n",
        "from sklearn.ensemble import RandomForestClassifier\n",
        "\n",
        "# Modeling Random Forest Classifier\n",
        "rfc = RandomForestClassifier()\n",
        "rfc.fit(X_train, y_train)\n",
        "\n",
        "# Predict to Test Data\n",
        "y_pred_rfc= rfc.predict(X_test)"
      ],
      "execution_count": null,
      "outputs": []
    },
    {
      "cell_type": "code",
      "metadata": {
        "id": "PYWZ1I3jwJJL",
        "colab": {
          "base_uri": "https://localhost:8080/"
        },
        "outputId": "f2abb49b-235a-4d54-a376-a02a0ed7ab13"
      },
      "source": [
        "cm_rfc = metrics.confusion_matrix(y_test, y_pred_rfc)\n",
        "cm_rfc"
      ],
      "execution_count": null,
      "outputs": [
        {
          "output_type": "execute_result",
          "data": {
            "text/plain": [
              "array([[324,   7,   1],\n",
              "       [ 15,  41,   3],\n",
              "       [  2,   4,  29]])"
            ]
          },
          "metadata": {
            "tags": []
          },
          "execution_count": 24
        }
      ]
    },
    {
      "cell_type": "code",
      "metadata": {
        "id": "iGK0ytY5wdND",
        "colab": {
          "base_uri": "https://localhost:8080/"
        },
        "outputId": "636d0c3b-f066-4140-9a08-6b22ec3a30a8"
      },
      "source": [
        "# Show the Accuracy, Precision, Recall\n",
        "acc_rfc = metrics.accuracy_score(y_test, y_pred_rfc)\n",
        "prec_rfc = metrics.precision_score(y_test, y_pred_rfc, average='weighted')\n",
        "rec_rfc = metrics.recall_score(y_test, y_pred_rfc, average='weighted')\n",
        "f1_rfc = metrics.f1_score(y_test, y_pred_rfc, average='weighted')\n",
        "kappa_rfc = metrics.cohen_kappa_score(y_test, y_pred_rfc)\n",
        "\n",
        "print(\"Accuracy:\", acc_rfc)\n",
        "print(\"Precision:\", prec_rfc)\n",
        "print(\"Recall:\", rec_rfc)\n",
        "print(\"F1 Score:\",f1_rfc)\n",
        "print(\"Cohens Kappa Score:\", kappa_rfc)"
      ],
      "execution_count": null,
      "outputs": [
        {
          "output_type": "stream",
          "text": [
            "Accuracy: 0.9248826291079812\n",
            "Precision: 0.9218908142692785\n",
            "Recall: 0.9248826291079812\n",
            "F1 Score: 0.9227833068624957\n",
            "Cohens Kappa Score: 0.7871363657656814\n"
          ],
          "name": "stdout"
        }
      ]
    },
    {
      "cell_type": "markdown",
      "metadata": {
        "id": "Tsn5uQuFw43W"
      },
      "source": [
        "**DECISION TREE**\r\n",
        "\r\n",
        "Model ini merupakan diagram alir yang mempunyai bentuk seperti pohon. Pohon ini mempunyai akar node yang berfungsi mengumpulkan data. Sebuah inner node yang berada pada root node yang berisi tentang pertanyaan tentang data dan  sebuah leaf node yang digunakan untuk memecahkan masalah serta membuat keputusan. Decision tree tergolong sebagai algoritma unsupervised learning, karena modelnya ditentukan oleh mesin sendiri. "
      ]
    },
    {
      "cell_type": "code",
      "metadata": {
        "id": "hKhQCFdlw4eB"
      },
      "source": [
        "# Import Module\n",
        "from sklearn import tree\n",
        "\n",
        "# Modeling Decision Tree\n",
        "dtc = tree.DecisionTreeClassifier(min_impurity_decrease=0.01)\n",
        "dtc.fit(X_train, y_train)\n",
        "\n",
        "# Predict to Test Data \n",
        "y_pred_dtc = dtc.predict(X_test)"
      ],
      "execution_count": null,
      "outputs": []
    },
    {
      "cell_type": "code",
      "metadata": {
        "id": "HO-Q5WMew_l_",
        "colab": {
          "base_uri": "https://localhost:8080/"
        },
        "outputId": "d5caab44-a4cb-4bd9-9781-bcc3a870fc65"
      },
      "source": [
        "# Import Module\n",
        "from sklearn import metrics\n",
        "\n",
        "# Show the Confussion Matrix\n",
        "cm_dtc = metrics.confusion_matrix(y_test, y_pred_dtc)\n",
        "cm_dtc"
      ],
      "execution_count": null,
      "outputs": [
        {
          "output_type": "execute_result",
          "data": {
            "text/plain": [
              "array([[324,   3,   5],\n",
              "       [ 26,  31,   2],\n",
              "       [  2,   1,  32]])"
            ]
          },
          "metadata": {
            "tags": []
          },
          "execution_count": 27
        }
      ]
    },
    {
      "cell_type": "code",
      "metadata": {
        "id": "jlGdPu6dxEaB",
        "colab": {
          "base_uri": "https://localhost:8080/"
        },
        "outputId": "dec27295-a802-4137-dc21-8ae04aed3c80"
      },
      "source": [
        "# Show the Accuracy, Precision, Recall\n",
        "acc_dtc = metrics.accuracy_score(y_test, y_pred_dtc)\n",
        "prec_dtc = metrics.precision_score(y_test, y_pred_dtc, average='weighted')\n",
        "rec_dtc = metrics.recall_score(y_test, y_pred_dtc, average='weighted')\n",
        "f1_dtc = metrics.f1_score(y_test, y_pred_dtc, average='weighted')\n",
        "kappa_dtc = metrics.cohen_kappa_score(y_test, y_pred_dtc)\n",
        " \n",
        "print(\"Accuracy:\", acc_dtc)\n",
        "print(\"Precision:\", prec_dtc)\n",
        "print(\"Recall:\", rec_dtc)\n",
        "print(\"F1 Score:\",f1_dtc)\n",
        "print(\"Cohens Kappa Score:\", kappa_dtc)"
      ],
      "execution_count": null,
      "outputs": [
        {
          "output_type": "stream",
          "text": [
            "Accuracy: 0.9084507042253521\n",
            "Precision: 0.9074319264460109\n",
            "Recall: 0.9084507042253521\n",
            "F1 Score: 0.900731172950153\n",
            "Cohens Kappa Score: 0.7284495439835246\n"
          ],
          "name": "stdout"
        }
      ]
    },
    {
      "cell_type": "markdown",
      "metadata": {
        "id": "tjL7Q0rQprRh"
      },
      "source": [
        "Secara performa model Random Forest merupakan yang terbaik. Karena dilihat dari hasil evaluasinya, model tersebut memiliki angka Accuracy, Precision, Recall, F1, dan Kappa yang lebih besar dibandingkan yang lainnya."
      ]
    },
    {
      "cell_type": "markdown",
      "metadata": {
        "id": "oJ8rl18LUsnb"
      },
      "source": [
        "# **RFC Confusion Matrix**\r\n",
        "\r\n",
        "Matrix di bawah ini menggambarkan bagaimana data yang sudah dilatih dapat dilihat performa hasilnya atau prediksi. Pada grafik ini digunakan model Random Forest, sehingga nilai yang muncul merupakan hasil perhitungan dari RF."
      ]
    },
    {
      "cell_type": "code",
      "metadata": {
        "id": "DmrI64tBUsvy",
        "colab": {
          "base_uri": "https://localhost:8080/",
          "height": 295
        },
        "outputId": "dab16bbb-9b51-4e65-b9c9-5c2dc4bce23d"
      },
      "source": [
        "import matplotlib.pyplot as plt\r\n",
        "from sklearn.metrics import plot_confusion_matrix\r\n",
        "# Predict the test set\r\n",
        "predictions = rfc.predict(X_test)\r\n",
        "\r\n",
        "# Generate confusion matrix\r\n",
        "matrix = plot_confusion_matrix(rfc, X_test, y_test,\r\n",
        "                                 cmap=plt.cm.Blues,\r\n",
        "                                 normalize='true')\r\n",
        "plt.title('Confusion Matrix')\r\n",
        "plt.show(matrix)\r\n",
        "plt.show()"
      ],
      "execution_count": null,
      "outputs": [
        {
          "output_type": "display_data",
          "data": {
            "image/png": "[encoded data removed]",
            "text/plain": [
              "<Figure size 432x288 with 2 Axes>"
            ]
          },
          "metadata": {
            "tags": [],
            "needs_background": "light"
          }
        }
      ]
    },
    {
      "cell_type": "markdown",
      "metadata": {
        "id": "bWIQdLHgqPNJ"
      },
      "source": [
        "Pada tabel di atas dapat dilihat (T: True Label dan P:Predicted Label) bahwa: \r\n",
        "\r\n",
        "\r\n",
        "1.   1T dan 1P merupakan: True Positive\r\n",
        "2.   1T dan 2P merupakan: False Negative\r\n",
        "3.   1T dan 3P merupakan: False Negative\r\n",
        "4.   2T dan 1P merupakan: False Positive\r\n",
        "5.   2T dan 2P merupakan: True Negative\r\n",
        "6.   2T dan 3P merupakan: True Negative\r\n",
        "7.   3T dan 1P merupakan: False Positive\r\n",
        "8.   3T dan 2P merupakan: True Negative\r\n",
        "9.   3T dan 3P merupakan: True Negative\r\n",
        "\r\n"
      ]
    },
    {
      "cell_type": "markdown",
      "metadata": {
        "id": "rPDkMii-ulqu"
      },
      "source": [
        "# **Output**"
      ]
    },
    {
      "cell_type": "code",
      "metadata": {
        "id": "BuetIXbFtsUQ"
      },
      "source": [
        "# Create Datafame Contains Fature and Result of prediction\n",
        "data_compare = X_test.copy()\n",
        "data_compare['ActualClass'] = y_test\n",
        "data_compare['kNN'] = y_pred_knn\n",
        "data_compare['Naive Bayes'] = y_pred_gnb\n",
        "data_compare['Random Forest'] = y_pred_rfc\n",
        "data_compare['Decision Tree'] = y_pred_dtc\n"
      ],
      "execution_count": null,
      "outputs": []
    },
    {
      "cell_type": "code",
      "metadata": {
        "id": "4royvtO7vCp6",
        "colab": {
          "base_uri": "https://localhost:8080/",
          "height": 706
        },
        "outputId": "31634bc5-0436-48aa-9dfb-84405b690e58"
      },
      "source": [
        "data_compare.head(20)"
      ],
      "execution_count": null,
      "outputs": [
        {
          "output_type": "execute_result",
          "data": {
            "text/html": [
              "<div>\n",
              "<style scoped>\n",
              "    .dataframe tbody tr th:only-of-type {\n",
              "        vertical-align: middle;\n",
              "    }\n",
              "\n",
              "    .dataframe tbody tr th {\n",
              "        vertical-align: top;\n",
              "    }\n",
              "\n",
              "    .dataframe thead th {\n",
              "        text-align: right;\n",
              "    }\n",
              "</style>\n",
              "<table border=\"1\" class=\"dataframe\">\n",
              "  <thead>\n",
              "    <tr style=\"text-align: right;\">\n",
              "      <th></th>\n",
              "      <th>baseline value</th>\n",
              "      <th>accelerations</th>\n",
              "      <th>fetal_movement</th>\n",
              "      <th>uterine_contractions</th>\n",
              "      <th>light_decelerations</th>\n",
              "      <th>severe_decelerations</th>\n",
              "      <th>prolongued_decelerations</th>\n",
              "      <th>abnormal_short_term_variability</th>\n",
              "      <th>mean_value_of_short_term_variability</th>\n",
              "      <th>percentage_of_time_with_abnormal_long_term_variability</th>\n",
              "      <th>mean_value_of_long_term_variability</th>\n",
              "      <th>histogram_width</th>\n",
              "      <th>histogram_min</th>\n",
              "      <th>histogram_max</th>\n",
              "      <th>histogram_number_of_peaks</th>\n",
              "      <th>histogram_number_of_zeroes</th>\n",
              "      <th>histogram_mode</th>\n",
              "      <th>histogram_mean</th>\n",
              "      <th>histogram_median</th>\n",
              "      <th>histogram_variance</th>\n",
              "      <th>histogram_tendency</th>\n",
              "      <th>ActualClass</th>\n",
              "      <th>kNN</th>\n",
              "      <th>Naive Bayes</th>\n",
              "      <th>Random Forest</th>\n",
              "      <th>Decision Tree</th>\n",
              "    </tr>\n",
              "  </thead>\n",
              "  <tbody>\n",
              "    <tr>\n",
              "      <th>1354</th>\n",
              "      <td>-0.132526</td>\n",
              "      <td>0.471379</td>\n",
              "      <td>-0.203210</td>\n",
              "      <td>-0.803434</td>\n",
              "      <td>0.375243</td>\n",
              "      <td>-0.057476</td>\n",
              "      <td>-0.268754</td>\n",
              "      <td>-1.279331</td>\n",
              "      <td>0.189365</td>\n",
              "      <td>-0.535361</td>\n",
              "      <td>0.499806</td>\n",
              "      <td>0.553428</td>\n",
              "      <td>-0.594841</td>\n",
              "      <td>0.221550</td>\n",
              "      <td>-0.023130</td>\n",
              "      <td>2.374846</td>\n",
              "      <td>0.216638</td>\n",
              "      <td>0.217414</td>\n",
              "      <td>0.132038</td>\n",
              "      <td>-0.096928</td>\n",
              "      <td>1.112980</td>\n",
              "      <td>1.0</td>\n",
              "      <td>1.0</td>\n",
              "      <td>1.0</td>\n",
              "      <td>1.0</td>\n",
              "      <td>1.0</td>\n",
              "    </tr>\n",
              "    <tr>\n",
              "      <th>1028</th>\n",
              "      <td>0.172398</td>\n",
              "      <td>2.023900</td>\n",
              "      <td>-0.203210</td>\n",
              "      <td>0.215111</td>\n",
              "      <td>0.037349</td>\n",
              "      <td>-0.057476</td>\n",
              "      <td>-0.268754</td>\n",
              "      <td>-1.279331</td>\n",
              "      <td>1.321824</td>\n",
              "      <td>-0.535361</td>\n",
              "      <td>-0.637583</td>\n",
              "      <td>0.476399</td>\n",
              "      <td>-0.154957</td>\n",
              "      <td>0.778965</td>\n",
              "      <td>0.316003</td>\n",
              "      <td>2.374846</td>\n",
              "      <td>0.338757</td>\n",
              "      <td>0.666422</td>\n",
              "      <td>0.616025</td>\n",
              "      <td>-0.304033</td>\n",
              "      <td>-0.524526</td>\n",
              "      <td>1.0</td>\n",
              "      <td>1.0</td>\n",
              "      <td>1.0</td>\n",
              "      <td>1.0</td>\n",
              "      <td>1.0</td>\n",
              "    </tr>\n",
              "    <tr>\n",
              "      <th>637</th>\n",
              "      <td>0.985528</td>\n",
              "      <td>0.988886</td>\n",
              "      <td>0.182602</td>\n",
              "      <td>-1.482465</td>\n",
              "      <td>-0.638438</td>\n",
              "      <td>-0.057476</td>\n",
              "      <td>-0.268754</td>\n",
              "      <td>-0.173958</td>\n",
              "      <td>-0.037127</td>\n",
              "      <td>-0.535361</td>\n",
              "      <td>0.570893</td>\n",
              "      <td>0.784514</td>\n",
              "      <td>-0.459492</td>\n",
              "      <td>0.946189</td>\n",
              "      <td>0.655137</td>\n",
              "      <td>-0.458444</td>\n",
              "      <td>0.521936</td>\n",
              "      <td>0.794709</td>\n",
              "      <td>0.685166</td>\n",
              "      <td>-0.476621</td>\n",
              "      <td>-0.524526</td>\n",
              "      <td>1.0</td>\n",
              "      <td>1.0</td>\n",
              "      <td>1.0</td>\n",
              "      <td>1.0</td>\n",
              "      <td>1.0</td>\n",
              "    </tr>\n",
              "    <tr>\n",
              "      <th>918</th>\n",
              "      <td>-1.148938</td>\n",
              "      <td>-0.822388</td>\n",
              "      <td>-0.203210</td>\n",
              "      <td>-0.463919</td>\n",
              "      <td>0.037349</td>\n",
              "      <td>-0.057476</td>\n",
              "      <td>-0.268754</td>\n",
              "      <td>-0.639378</td>\n",
              "      <td>-0.376865</td>\n",
              "      <td>0.117077</td>\n",
              "      <td>-0.086660</td>\n",
              "      <td>-0.730384</td>\n",
              "      <td>-0.222632</td>\n",
              "      <td>-1.952368</td>\n",
              "      <td>-0.701397</td>\n",
              "      <td>-0.458444</td>\n",
              "      <td>-0.882435</td>\n",
              "      <td>-1.129610</td>\n",
              "      <td>-1.181642</td>\n",
              "      <td>-0.304033</td>\n",
              "      <td>1.112980</td>\n",
              "      <td>1.0</td>\n",
              "      <td>1.0</td>\n",
              "      <td>1.0</td>\n",
              "      <td>1.0</td>\n",
              "      <td>1.0</td>\n",
              "    </tr>\n",
              "    <tr>\n",
              "      <th>1208</th>\n",
              "      <td>0.274039</td>\n",
              "      <td>-0.046128</td>\n",
              "      <td>-0.203210</td>\n",
              "      <td>0.554627</td>\n",
              "      <td>-0.638438</td>\n",
              "      <td>-0.057476</td>\n",
              "      <td>-0.268754</td>\n",
              "      <td>0.058752</td>\n",
              "      <td>-0.716603</td>\n",
              "      <td>-0.426622</td>\n",
              "      <td>0.215459</td>\n",
              "      <td>-0.730384</td>\n",
              "      <td>0.927834</td>\n",
              "      <td>-0.057157</td>\n",
              "      <td>-1.040530</td>\n",
              "      <td>0.958201</td>\n",
              "      <td>0.399817</td>\n",
              "      <td>0.602278</td>\n",
              "      <td>0.477743</td>\n",
              "      <td>-0.580173</td>\n",
              "      <td>-0.524526</td>\n",
              "      <td>1.0</td>\n",
              "      <td>1.0</td>\n",
              "      <td>1.0</td>\n",
              "      <td>1.0</td>\n",
              "      <td>1.0</td>\n",
              "    </tr>\n",
              "    <tr>\n",
              "      <th>1199</th>\n",
              "      <td>0.985528</td>\n",
              "      <td>0.471379</td>\n",
              "      <td>-0.203210</td>\n",
              "      <td>0.215111</td>\n",
              "      <td>-0.638438</td>\n",
              "      <td>-0.057476</td>\n",
              "      <td>-0.268754</td>\n",
              "      <td>-0.173958</td>\n",
              "      <td>-0.263619</td>\n",
              "      <td>-0.263512</td>\n",
              "      <td>0.713067</td>\n",
              "      <td>-0.653355</td>\n",
              "      <td>1.164694</td>\n",
              "      <td>0.500257</td>\n",
              "      <td>-0.023130</td>\n",
              "      <td>-0.458444</td>\n",
              "      <td>0.582996</td>\n",
              "      <td>0.858853</td>\n",
              "      <td>0.754307</td>\n",
              "      <td>-0.511138</td>\n",
              "      <td>-0.524526</td>\n",
              "      <td>1.0</td>\n",
              "      <td>1.0</td>\n",
              "      <td>1.0</td>\n",
              "      <td>1.0</td>\n",
              "      <td>1.0</td>\n",
              "    </tr>\n",
              "    <tr>\n",
              "      <th>508</th>\n",
              "      <td>2.408505</td>\n",
              "      <td>1.506393</td>\n",
              "      <td>-0.117474</td>\n",
              "      <td>-1.142949</td>\n",
              "      <td>-0.638438</td>\n",
              "      <td>-0.057476</td>\n",
              "      <td>-0.268754</td>\n",
              "      <td>0.058752</td>\n",
              "      <td>-0.716603</td>\n",
              "      <td>-0.535361</td>\n",
              "      <td>-0.513181</td>\n",
              "      <td>-0.807412</td>\n",
              "      <td>2.010625</td>\n",
              "      <td>1.559346</td>\n",
              "      <td>-1.040530</td>\n",
              "      <td>-0.458444</td>\n",
              "      <td>1.559950</td>\n",
              "      <td>2.077589</td>\n",
              "      <td>1.929705</td>\n",
              "      <td>-0.442103</td>\n",
              "      <td>-2.162031</td>\n",
              "      <td>1.0</td>\n",
              "      <td>1.0</td>\n",
              "      <td>1.0</td>\n",
              "      <td>1.0</td>\n",
              "      <td>1.0</td>\n",
              "    </tr>\n",
              "    <tr>\n",
              "      <th>204</th>\n",
              "      <td>-1.352220</td>\n",
              "      <td>-0.822388</td>\n",
              "      <td>-0.031738</td>\n",
              "      <td>-1.482465</td>\n",
              "      <td>-0.638438</td>\n",
              "      <td>-0.057476</td>\n",
              "      <td>-0.268754</td>\n",
              "      <td>0.233285</td>\n",
              "      <td>-0.716603</td>\n",
              "      <td>0.280186</td>\n",
              "      <td>-0.139975</td>\n",
              "      <td>-1.269584</td>\n",
              "      <td>0.521787</td>\n",
              "      <td>-1.896626</td>\n",
              "      <td>-1.040530</td>\n",
              "      <td>0.958201</td>\n",
              "      <td>-0.882435</td>\n",
              "      <td>-0.873034</td>\n",
              "      <td>-1.043360</td>\n",
              "      <td>-0.649208</td>\n",
              "      <td>-0.524526</td>\n",
              "      <td>1.0</td>\n",
              "      <td>1.0</td>\n",
              "      <td>1.0</td>\n",
              "      <td>1.0</td>\n",
              "      <td>1.0</td>\n",
              "    </tr>\n",
              "    <tr>\n",
              "      <th>1636</th>\n",
              "      <td>-0.335808</td>\n",
              "      <td>0.212626</td>\n",
              "      <td>-0.074606</td>\n",
              "      <td>0.215111</td>\n",
              "      <td>0.037349</td>\n",
              "      <td>-0.057476</td>\n",
              "      <td>-0.268754</td>\n",
              "      <td>0.233285</td>\n",
              "      <td>1.661562</td>\n",
              "      <td>-0.535361</td>\n",
              "      <td>-0.708670</td>\n",
              "      <td>0.142608</td>\n",
              "      <td>-0.222632</td>\n",
              "      <td>-0.057157</td>\n",
              "      <td>0.316003</td>\n",
              "      <td>-0.458444</td>\n",
              "      <td>-0.149720</td>\n",
              "      <td>-0.231594</td>\n",
              "      <td>-0.144526</td>\n",
              "      <td>-0.269516</td>\n",
              "      <td>-0.524526</td>\n",
              "      <td>1.0</td>\n",
              "      <td>1.0</td>\n",
              "      <td>1.0</td>\n",
              "      <td>1.0</td>\n",
              "      <td>1.0</td>\n",
              "    </tr>\n",
              "    <tr>\n",
              "      <th>1504</th>\n",
              "      <td>-0.335808</td>\n",
              "      <td>0.730133</td>\n",
              "      <td>-0.203210</td>\n",
              "      <td>0.554627</td>\n",
              "      <td>-0.638438</td>\n",
              "      <td>-0.057476</td>\n",
              "      <td>-0.268754</td>\n",
              "      <td>-0.523023</td>\n",
              "      <td>-0.376865</td>\n",
              "      <td>-0.535361</td>\n",
              "      <td>-0.015573</td>\n",
              "      <td>-0.447945</td>\n",
              "      <td>0.284927</td>\n",
              "      <td>-0.503089</td>\n",
              "      <td>0.655137</td>\n",
              "      <td>0.958201</td>\n",
              "      <td>-0.088660</td>\n",
              "      <td>0.024982</td>\n",
              "      <td>-0.075385</td>\n",
              "      <td>-0.511138</td>\n",
              "      <td>-0.524526</td>\n",
              "      <td>1.0</td>\n",
              "      <td>1.0</td>\n",
              "      <td>1.0</td>\n",
              "      <td>1.0</td>\n",
              "      <td>1.0</td>\n",
              "    </tr>\n",
              "    <tr>\n",
              "      <th>221</th>\n",
              "      <td>-0.437449</td>\n",
              "      <td>-0.822388</td>\n",
              "      <td>0.182602</td>\n",
              "      <td>-1.482465</td>\n",
              "      <td>-0.638438</td>\n",
              "      <td>-0.057476</td>\n",
              "      <td>-0.268754</td>\n",
              "      <td>0.465995</td>\n",
              "      <td>-0.943095</td>\n",
              "      <td>-0.480991</td>\n",
              "      <td>-0.122203</td>\n",
              "      <td>-1.218232</td>\n",
              "      <td>0.893996</td>\n",
              "      <td>-1.171987</td>\n",
              "      <td>-0.362263</td>\n",
              "      <td>-0.458444</td>\n",
              "      <td>-0.271839</td>\n",
              "      <td>-0.103306</td>\n",
              "      <td>-0.282808</td>\n",
              "      <td>-0.614691</td>\n",
              "      <td>-0.524526</td>\n",
              "      <td>1.0</td>\n",
              "      <td>1.0</td>\n",
              "      <td>2.0</td>\n",
              "      <td>1.0</td>\n",
              "      <td>1.0</td>\n",
              "    </tr>\n",
              "    <tr>\n",
              "      <th>1441</th>\n",
              "      <td>1.290451</td>\n",
              "      <td>1.765147</td>\n",
              "      <td>-0.203210</td>\n",
              "      <td>-0.124404</td>\n",
              "      <td>-0.638438</td>\n",
              "      <td>-0.057476</td>\n",
              "      <td>-0.268754</td>\n",
              "      <td>-0.697556</td>\n",
              "      <td>-0.376865</td>\n",
              "      <td>-0.535361</td>\n",
              "      <td>-0.850843</td>\n",
              "      <td>-0.473621</td>\n",
              "      <td>1.097020</td>\n",
              "      <td>0.778965</td>\n",
              "      <td>-0.701397</td>\n",
              "      <td>-0.458444</td>\n",
              "      <td>1.071473</td>\n",
              "      <td>1.243717</td>\n",
              "      <td>1.169154</td>\n",
              "      <td>-0.511138</td>\n",
              "      <td>-0.524526</td>\n",
              "      <td>1.0</td>\n",
              "      <td>1.0</td>\n",
              "      <td>1.0</td>\n",
              "      <td>1.0</td>\n",
              "      <td>1.0</td>\n",
              "    </tr>\n",
              "    <tr>\n",
              "      <th>432</th>\n",
              "      <td>-0.844014</td>\n",
              "      <td>2.023900</td>\n",
              "      <td>-0.203210</td>\n",
              "      <td>-1.482465</td>\n",
              "      <td>-0.638438</td>\n",
              "      <td>-0.057476</td>\n",
              "      <td>-0.268754</td>\n",
              "      <td>-0.581201</td>\n",
              "      <td>0.302611</td>\n",
              "      <td>-0.535361</td>\n",
              "      <td>0.713067</td>\n",
              "      <td>1.426420</td>\n",
              "      <td>-0.865539</td>\n",
              "      <td>1.670828</td>\n",
              "      <td>-0.362263</td>\n",
              "      <td>0.958201</td>\n",
              "      <td>-0.638197</td>\n",
              "      <td>-0.103306</td>\n",
              "      <td>-0.282808</td>\n",
              "      <td>-0.234998</td>\n",
              "      <td>-0.524526</td>\n",
              "      <td>1.0</td>\n",
              "      <td>1.0</td>\n",
              "      <td>1.0</td>\n",
              "      <td>1.0</td>\n",
              "      <td>1.0</td>\n",
              "    </tr>\n",
              "    <tr>\n",
              "      <th>1593</th>\n",
              "      <td>0.070757</td>\n",
              "      <td>-0.822388</td>\n",
              "      <td>-0.203210</td>\n",
              "      <td>0.894142</td>\n",
              "      <td>2.064711</td>\n",
              "      <td>-0.057476</td>\n",
              "      <td>-0.268754</td>\n",
              "      <td>-1.570218</td>\n",
              "      <td>0.868841</td>\n",
              "      <td>-0.535361</td>\n",
              "      <td>0.002198</td>\n",
              "      <td>1.143981</td>\n",
              "      <td>-1.474609</td>\n",
              "      <td>0.054326</td>\n",
              "      <td>0.994270</td>\n",
              "      <td>2.374846</td>\n",
              "      <td>-0.699256</td>\n",
              "      <td>-1.129610</td>\n",
              "      <td>-0.835937</td>\n",
              "      <td>1.525394</td>\n",
              "      <td>-0.524526</td>\n",
              "      <td>1.0</td>\n",
              "      <td>1.0</td>\n",
              "      <td>1.0</td>\n",
              "      <td>1.0</td>\n",
              "      <td>1.0</td>\n",
              "    </tr>\n",
              "    <tr>\n",
              "      <th>1645</th>\n",
              "      <td>-0.335808</td>\n",
              "      <td>1.506393</td>\n",
              "      <td>-0.203210</td>\n",
              "      <td>0.215111</td>\n",
              "      <td>1.051030</td>\n",
              "      <td>-0.057476</td>\n",
              "      <td>-0.268754</td>\n",
              "      <td>0.233285</td>\n",
              "      <td>0.189365</td>\n",
              "      <td>-0.535361</td>\n",
              "      <td>-0.566496</td>\n",
              "      <td>0.784514</td>\n",
              "      <td>-0.561004</td>\n",
              "      <td>0.778965</td>\n",
              "      <td>0.994270</td>\n",
              "      <td>-0.458444</td>\n",
              "      <td>-0.455018</td>\n",
              "      <td>0.024982</td>\n",
              "      <td>-0.075385</td>\n",
              "      <td>0.696974</td>\n",
              "      <td>-0.524526</td>\n",
              "      <td>1.0</td>\n",
              "      <td>1.0</td>\n",
              "      <td>1.0</td>\n",
              "      <td>1.0</td>\n",
              "      <td>1.0</td>\n",
              "    </tr>\n",
              "    <tr>\n",
              "      <th>1826</th>\n",
              "      <td>0.680604</td>\n",
              "      <td>-0.822388</td>\n",
              "      <td>-0.181776</td>\n",
              "      <td>-0.463919</td>\n",
              "      <td>1.726817</td>\n",
              "      <td>-0.057476</td>\n",
              "      <td>-0.268754</td>\n",
              "      <td>0.873237</td>\n",
              "      <td>-0.150373</td>\n",
              "      <td>-0.535361</td>\n",
              "      <td>-0.761985</td>\n",
              "      <td>0.579104</td>\n",
              "      <td>-0.933213</td>\n",
              "      <td>-0.280123</td>\n",
              "      <td>0.316003</td>\n",
              "      <td>2.374846</td>\n",
              "      <td>0.277698</td>\n",
              "      <td>0.089126</td>\n",
              "      <td>0.408602</td>\n",
              "      <td>0.248247</td>\n",
              "      <td>1.112980</td>\n",
              "      <td>1.0</td>\n",
              "      <td>1.0</td>\n",
              "      <td>1.0</td>\n",
              "      <td>1.0</td>\n",
              "      <td>1.0</td>\n",
              "    </tr>\n",
              "    <tr>\n",
              "      <th>974</th>\n",
              "      <td>-0.234167</td>\n",
              "      <td>-0.822388</td>\n",
              "      <td>-0.203210</td>\n",
              "      <td>-0.124404</td>\n",
              "      <td>2.064711</td>\n",
              "      <td>-0.057476</td>\n",
              "      <td>-0.268754</td>\n",
              "      <td>-0.464846</td>\n",
              "      <td>-0.376865</td>\n",
              "      <td>-0.209142</td>\n",
              "      <td>-1.010789</td>\n",
              "      <td>-0.062802</td>\n",
              "      <td>-0.696353</td>\n",
              "      <td>-1.283470</td>\n",
              "      <td>0.316003</td>\n",
              "      <td>-0.458444</td>\n",
              "      <td>-0.149720</td>\n",
              "      <td>-0.680602</td>\n",
              "      <td>-0.282808</td>\n",
              "      <td>0.696974</td>\n",
              "      <td>1.112980</td>\n",
              "      <td>1.0</td>\n",
              "      <td>1.0</td>\n",
              "      <td>1.0</td>\n",
              "      <td>1.0</td>\n",
              "      <td>1.0</td>\n",
              "    </tr>\n",
              "    <tr>\n",
              "      <th>1974</th>\n",
              "      <td>0.172398</td>\n",
              "      <td>2.282654</td>\n",
              "      <td>-0.160342</td>\n",
              "      <td>-0.124404</td>\n",
              "      <td>-0.638438</td>\n",
              "      <td>-0.057476</td>\n",
              "      <td>-0.268754</td>\n",
              "      <td>0.756882</td>\n",
              "      <td>-0.490111</td>\n",
              "      <td>-0.535361</td>\n",
              "      <td>-1.366223</td>\n",
              "      <td>-0.679031</td>\n",
              "      <td>1.029345</td>\n",
              "      <td>0.221550</td>\n",
              "      <td>-0.362263</td>\n",
              "      <td>-0.458444</td>\n",
              "      <td>0.644055</td>\n",
              "      <td>0.602278</td>\n",
              "      <td>0.616025</td>\n",
              "      <td>-0.442103</td>\n",
              "      <td>-0.524526</td>\n",
              "      <td>1.0</td>\n",
              "      <td>1.0</td>\n",
              "      <td>1.0</td>\n",
              "      <td>1.0</td>\n",
              "      <td>1.0</td>\n",
              "    </tr>\n",
              "    <tr>\n",
              "      <th>710</th>\n",
              "      <td>-0.742373</td>\n",
              "      <td>-0.822388</td>\n",
              "      <td>-0.203210</td>\n",
              "      <td>-0.463919</td>\n",
              "      <td>-0.638438</td>\n",
              "      <td>-0.057476</td>\n",
              "      <td>-0.268754</td>\n",
              "      <td>0.524172</td>\n",
              "      <td>-0.943095</td>\n",
              "      <td>1.639432</td>\n",
              "      <td>-0.264377</td>\n",
              "      <td>-1.115527</td>\n",
              "      <td>0.758648</td>\n",
              "      <td>-1.171987</td>\n",
              "      <td>-0.701397</td>\n",
              "      <td>-0.458444</td>\n",
              "      <td>-0.516077</td>\n",
              "      <td>-0.488170</td>\n",
              "      <td>-0.628514</td>\n",
              "      <td>-0.614691</td>\n",
              "      <td>-0.524526</td>\n",
              "      <td>1.0</td>\n",
              "      <td>2.0</td>\n",
              "      <td>2.0</td>\n",
              "      <td>1.0</td>\n",
              "      <td>1.0</td>\n",
              "    </tr>\n",
              "    <tr>\n",
              "      <th>1899</th>\n",
              "      <td>0.578963</td>\n",
              "      <td>1.506393</td>\n",
              "      <td>-0.181776</td>\n",
              "      <td>1.233657</td>\n",
              "      <td>1.388924</td>\n",
              "      <td>-0.057476</td>\n",
              "      <td>-0.268754</td>\n",
              "      <td>0.175107</td>\n",
              "      <td>0.076119</td>\n",
              "      <td>-0.535361</td>\n",
              "      <td>1.121816</td>\n",
              "      <td>0.810190</td>\n",
              "      <td>-0.594841</td>\n",
              "      <td>0.778965</td>\n",
              "      <td>1.333404</td>\n",
              "      <td>-0.458444</td>\n",
              "      <td>1.498890</td>\n",
              "      <td>0.473990</td>\n",
              "      <td>0.616025</td>\n",
              "      <td>1.801534</td>\n",
              "      <td>1.112980</td>\n",
              "      <td>1.0</td>\n",
              "      <td>1.0</td>\n",
              "      <td>1.0</td>\n",
              "      <td>1.0</td>\n",
              "      <td>1.0</td>\n",
              "    </tr>\n",
              "  </tbody>\n",
              "</table>\n",
              "</div>"
            ],
            "text/plain": [
              "      baseline value  accelerations  ...  Random Forest  Decision Tree\n",
              "1354       -0.132526       0.471379  ...            1.0            1.0\n",
              "1028        0.172398       2.023900  ...            1.0            1.0\n",
              "637         0.985528       0.988886  ...            1.0            1.0\n",
              "918        -1.148938      -0.822388  ...            1.0            1.0\n",
              "1208        0.274039      -0.046128  ...            1.0            1.0\n",
              "1199        0.985528       0.471379  ...            1.0            1.0\n",
              "508         2.408505       1.506393  ...            1.0            1.0\n",
              "204        -1.352220      -0.822388  ...            1.0            1.0\n",
              "1636       -0.335808       0.212626  ...            1.0            1.0\n",
              "1504       -0.335808       0.730133  ...            1.0            1.0\n",
              "221        -0.437449      -0.822388  ...            1.0            1.0\n",
              "1441        1.290451       1.765147  ...            1.0            1.0\n",
              "432        -0.844014       2.023900  ...            1.0            1.0\n",
              "1593        0.070757      -0.822388  ...            1.0            1.0\n",
              "1645       -0.335808       1.506393  ...            1.0            1.0\n",
              "1826        0.680604      -0.822388  ...            1.0            1.0\n",
              "974        -0.234167      -0.822388  ...            1.0            1.0\n",
              "1974        0.172398       2.282654  ...            1.0            1.0\n",
              "710        -0.742373      -0.822388  ...            1.0            1.0\n",
              "1899        0.578963       1.506393  ...            1.0            1.0\n",
              "\n",
              "[20 rows x 26 columns]"
            ]
          },
          "metadata": {
            "tags": []
          },
          "execution_count": 31
        }
      ]
    },
    {
      "cell_type": "markdown",
      "metadata": {
        "id": "AgV2K76Trha-"
      },
      "source": [
        "# **Cross Validation**"
      ]
    },
    {
      "cell_type": "markdown",
      "metadata": {
        "id": "3eYtBBy8JKSl"
      },
      "source": [
        "**1. GridSearchCV**\r\n",
        "\r\n",
        "GridSearch merupakan proses penentuan hyper parameter dari sebuah model yang sudah ditentukan. Proses ini sangat signifikan karena performansi seluruh model berdasrakan nilai hyper parameter yang ditentukan."
      ]
    },
    {
      "cell_type": "code",
      "metadata": {
        "id": "oyDGQVqHJNTK",
        "colab": {
          "base_uri": "https://localhost:8080/"
        },
        "outputId": "ff4baf0f-fa9c-4517-c3f8-b41df859a6e5"
      },
      "source": [
        "from sklearn.model_selection import GridSearchCV\r\n",
        "\r\n",
        "# Create the parameters\r\n",
        "grid_param = {\r\n",
        "    'max_depth' :[10,20,30],\r\n",
        "    'max_features':['auto'],\r\n",
        "    'min_samples_leaf': [1,2,3],\r\n",
        "    'min_samples_split': [4,5,6],\r\n",
        "    'n_estimators': [50, 100, 200, 400]\r\n",
        "}\r\n",
        "\r\n",
        "# Create a base model\r\n",
        "rf_grids = RandomForestClassifier()\r\n",
        "\r\n",
        "# Initiate the grid search model\r\n",
        "grid_search = GridSearchCV(estimator=rf_grids, param_grid=grid_param, scoring='f1_weighted',\r\n",
        "                           cv=5, n_jobs=-1, verbose=6)\r\n",
        "\r\n",
        "# Fit the grid search to the data\r\n",
        "grid_search.fit(X_train, y_train)"
      ],
      "execution_count": null,
      "outputs": [
        {
          "output_type": "stream",
          "text": [
            "Fitting 5 folds for each of 108 candidates, totalling 540 fits\n"
          ],
          "name": "stdout"
        },
        {
          "output_type": "stream",
          "text": [
            "[Parallel(n_jobs=-1)]: Using backend LokyBackend with 2 concurrent workers.\n",
            "[Parallel(n_jobs=-1)]: Done   9 tasks      | elapsed:    2.7s\n",
            "[Parallel(n_jobs=-1)]: Done  46 tasks      | elapsed:   18.0s\n",
            "[Parallel(n_jobs=-1)]: Done 109 tasks      | elapsed:   42.2s\n",
            "[Parallel(n_jobs=-1)]: Done 196 tasks      | elapsed:  1.3min\n",
            "[Parallel(n_jobs=-1)]: Done 309 tasks      | elapsed:  2.0min\n",
            "[Parallel(n_jobs=-1)]: Done 446 tasks      | elapsed:  2.9min\n",
            "[Parallel(n_jobs=-1)]: Done 540 out of 540 | elapsed:  3.6min finished\n"
          ],
          "name": "stderr"
        },
        {
          "output_type": "execute_result",
          "data": {
            "text/plain": [
              "GridSearchCV(cv=5, error_score=nan,\n",
              "             estimator=RandomForestClassifier(bootstrap=True, ccp_alpha=0.0,\n",
              "                                              class_weight=None,\n",
              "                                              criterion='gini', max_depth=None,\n",
              "                                              max_features='auto',\n",
              "                                              max_leaf_nodes=None,\n",
              "                                              max_samples=None,\n",
              "                                              min_impurity_decrease=0.0,\n",
              "                                              min_impurity_split=None,\n",
              "                                              min_samples_leaf=1,\n",
              "                                              min_samples_split=2,\n",
              "                                              min_weight_fraction_leaf=0.0,\n",
              "                                              n_estimators=100, n_jobs=None,\n",
              "                                              oob_score=False,\n",
              "                                              random_state=None, verbose=0,\n",
              "                                              warm_start=False),\n",
              "             iid='deprecated', n_jobs=-1,\n",
              "             param_grid={'max_depth': [10, 20, 30], 'max_features': ['auto'],\n",
              "                         'min_samples_leaf': [1, 2, 3],\n",
              "                         'min_samples_split': [4, 5, 6],\n",
              "                         'n_estimators': [50, 100, 200, 400]},\n",
              "             pre_dispatch='2*n_jobs', refit=True, return_train_score=False,\n",
              "             scoring='f1_weighted', verbose=6)"
            ]
          },
          "metadata": {
            "tags": []
          },
          "execution_count": 32
        }
      ]
    },
    {
      "cell_type": "code",
      "metadata": {
        "id": "oIMRmwMigldm",
        "colab": {
          "base_uri": "https://localhost:8080/"
        },
        "outputId": "402cf6fc-0428-41ca-fed0-e675b65df896"
      },
      "source": [
        "# Results from Grid Search\r\n",
        "print(\" Results from Grid Search \" )\r\n",
        "print()\r\n",
        "print(\"\\n The best estimator across ALL searched params:\\n\",\r\n",
        "          grid_search.best_estimator_)\r\n",
        "print(\"\\n The best score across ALL searched params:\\n\",\r\n",
        "          grid_search.best_score_)\r\n",
        "print(\"\\n The best parameters across ALL searched params:\\n\",\r\n",
        "          grid_search.best_params_)"
      ],
      "execution_count": null,
      "outputs": [
        {
          "output_type": "stream",
          "text": [
            " Results from Grid Search \n",
            "\n",
            "\n",
            " The best estimator across ALL searched params:\n",
            " RandomForestClassifier(bootstrap=True, ccp_alpha=0.0, class_weight=None,\n",
            "                       criterion='gini', max_depth=20, max_features='auto',\n",
            "                       max_leaf_nodes=None, max_samples=None,\n",
            "                       min_impurity_decrease=0.0, min_impurity_split=None,\n",
            "                       min_samples_leaf=1, min_samples_split=5,\n",
            "                       min_weight_fraction_leaf=0.0, n_estimators=200,\n",
            "                       n_jobs=None, oob_score=False, random_state=None,\n",
            "                       verbose=0, warm_start=False)\n",
            "\n",
            " The best score across ALL searched params:\n",
            " 0.9413957477295163\n",
            "\n",
            " The best parameters across ALL searched params:\n",
            " {'max_depth': 20, 'max_features': 'auto', 'min_samples_leaf': 1, 'min_samples_split': 5, 'n_estimators': 200}\n"
          ],
          "name": "stdout"
        }
      ]
    },
    {
      "cell_type": "code",
      "metadata": {
        "id": "ItdK1HP3PGIK"
      },
      "source": [
        "# Predict to Test Data \r\n",
        "y_pred_grid_search = grid_search.predict(X_test)"
      ],
      "execution_count": null,
      "outputs": []
    },
    {
      "cell_type": "code",
      "metadata": {
        "id": "1RV9YtrOOte4",
        "colab": {
          "base_uri": "https://localhost:8080/"
        },
        "outputId": "96c3e49e-e6af-4061-e70d-9e9d7b861b84"
      },
      "source": [
        "# Show the Accuracy, Precision, Recall\r\n",
        "acc_gs = metrics.accuracy_score(y_test, y_pred_grid_search)\r\n",
        "prec_gs = metrics.precision_score(y_test, y_pred_grid_search, average='weighted')\r\n",
        "rec_gs = metrics.recall_score(y_test, y_pred_grid_search, average='weighted')\r\n",
        "f1_gs = metrics.f1_score(y_test, y_pred_grid_search, average='weighted')\r\n",
        "kappa_gs = metrics.cohen_kappa_score(y_test, y_pred_grid_search)\r\n",
        " \r\n",
        "print(\"Accuracy:\", acc_gs)\r\n",
        "print(\"Precision:\", prec_gs)\r\n",
        "print(\"Recall:\", rec_gs)\r\n",
        "print(\"F1 Score:\",f1_gs)\r\n",
        "print(\"Cohens Kappa Score:\", kappa_gs)"
      ],
      "execution_count": null,
      "outputs": [
        {
          "output_type": "stream",
          "text": [
            "Accuracy: 0.9295774647887324\n",
            "Precision: 0.9272205383149689\n",
            "Recall: 0.9295774647887324\n",
            "F1 Score: 0.9264215965710039\n",
            "Cohens Kappa Score: 0.7961722488038278\n"
          ],
          "name": "stdout"
        }
      ]
    },
    {
      "cell_type": "markdown",
      "metadata": {
        "id": "MR026urWjFpQ"
      },
      "source": [
        "**2. RandomizedSearchCV**\r\n",
        "\r\n",
        "Mengdefinisikan sebuah ruang pencarian sebagai domain dari nilai hyper parameter dan mensampling secara random poin sample di domain tersebut"
      ]
    },
    {
      "cell_type": "code",
      "metadata": {
        "id": "E72JnV20jIbi",
        "colab": {
          "base_uri": "https://localhost:8080/"
        },
        "outputId": "eae90bad-bfe5-4d34-bd8f-b4f77e702095"
      },
      "source": [
        "from sklearn.model_selection import RandomizedSearchCV\r\n",
        "\r\n",
        "# Create the random grid\r\n",
        "random_grid = {'bootstrap': [True, False],\r\n",
        "               'max_depth': [10,20,30],\r\n",
        "              'max_features': ['auto'],\r\n",
        "              'min_samples_leaf': [1,2,3],\r\n",
        "              'min_samples_split': [4,5,6],\r\n",
        "              'n_estimators': [50, 100, 200, 400]}\r\n",
        "\r\n",
        "\r\n",
        "# Create a base model\r\n",
        "rf_grids = RandomForestClassifier()\r\n",
        "\r\n",
        "# Initiate the grid search model\r\n",
        "rgrid_search = GridSearchCV(estimator=rf_grids, param_grid=random_grid, scoring='f1_weighted',\r\n",
        "                           cv=5, n_jobs=-1, verbose=6)\r\n",
        "\r\n",
        "# Fit the grid search to the data\r\n",
        "rgrid_search.fit(X_train, y_train)"
      ],
      "execution_count": null,
      "outputs": [
        {
          "output_type": "stream",
          "text": [
            "Fitting 5 folds for each of 216 candidates, totalling 1080 fits\n"
          ],
          "name": "stdout"
        },
        {
          "output_type": "stream",
          "text": [
            "[Parallel(n_jobs=-1)]: Using backend LokyBackend with 2 concurrent workers.\n",
            "[Parallel(n_jobs=-1)]: Done   9 tasks      | elapsed:    1.4s\n",
            "[Parallel(n_jobs=-1)]: Done  46 tasks      | elapsed:   16.7s\n",
            "[Parallel(n_jobs=-1)]: Done 109 tasks      | elapsed:   40.8s\n",
            "[Parallel(n_jobs=-1)]: Done 196 tasks      | elapsed:  1.3min\n",
            "[Parallel(n_jobs=-1)]: Done 309 tasks      | elapsed:  2.0min\n",
            "[Parallel(n_jobs=-1)]: Done 446 tasks      | elapsed:  2.9min\n",
            "[Parallel(n_jobs=-1)]: Done 609 tasks      | elapsed:  4.1min\n",
            "[Parallel(n_jobs=-1)]: Done 796 tasks      | elapsed:  5.5min\n",
            "[Parallel(n_jobs=-1)]: Done 1009 tasks      | elapsed:  7.0min\n",
            "[Parallel(n_jobs=-1)]: Done 1080 out of 1080 | elapsed:  7.6min finished\n"
          ],
          "name": "stderr"
        },
        {
          "output_type": "execute_result",
          "data": {
            "text/plain": [
              "GridSearchCV(cv=5, error_score=nan,\n",
              "             estimator=RandomForestClassifier(bootstrap=True, ccp_alpha=0.0,\n",
              "                                              class_weight=None,\n",
              "                                              criterion='gini', max_depth=None,\n",
              "                                              max_features='auto',\n",
              "                                              max_leaf_nodes=None,\n",
              "                                              max_samples=None,\n",
              "                                              min_impurity_decrease=0.0,\n",
              "                                              min_impurity_split=None,\n",
              "                                              min_samples_leaf=1,\n",
              "                                              min_samples_split=2,\n",
              "                                              min_weight_fraction_leaf=0.0,\n",
              "                                              n_estimators=100, n_jobs=None,\n",
              "                                              oob_score=False,\n",
              "                                              random_state=None, verbose=0,\n",
              "                                              warm_start=False),\n",
              "             iid='deprecated', n_jobs=-1,\n",
              "             param_grid={'bootstrap': [True, False], 'max_depth': [10, 20, 30],\n",
              "                         'max_features': ['auto'],\n",
              "                         'min_samples_leaf': [1, 2, 3],\n",
              "                         'min_samples_split': [4, 5, 6],\n",
              "                         'n_estimators': [50, 100, 200, 400]},\n",
              "             pre_dispatch='2*n_jobs', refit=True, return_train_score=False,\n",
              "             scoring='f1_weighted', verbose=6)"
            ]
          },
          "metadata": {
            "tags": []
          },
          "execution_count": 36
        }
      ]
    },
    {
      "cell_type": "code",
      "metadata": {
        "id": "STg9yf7KjPvK",
        "colab": {
          "base_uri": "https://localhost:8080/"
        },
        "outputId": "80548fec-717c-4269-a844-2060faa30938"
      },
      "source": [
        "# Results from Grid Search\r\n",
        "print(\" Results from Grid Search \" )\r\n",
        "print()\r\n",
        "print(\"\\n The best estimator across ALL searched params:\\n\",\r\n",
        "          rgrid_search.best_estimator_)\r\n",
        "print(\"\\n The best score across ALL searched params:\\n\",\r\n",
        "          rgrid_search.best_score_)\r\n",
        "print(\"\\n The best parameters across ALL searched params:\\n\",\r\n",
        "          rgrid_search.best_params_)"
      ],
      "execution_count": null,
      "outputs": [
        {
          "output_type": "stream",
          "text": [
            " Results from Grid Search \n",
            "\n",
            "\n",
            " The best estimator across ALL searched params:\n",
            " RandomForestClassifier(bootstrap=False, ccp_alpha=0.0, class_weight=None,\n",
            "                       criterion='gini', max_depth=30, max_features='auto',\n",
            "                       max_leaf_nodes=None, max_samples=None,\n",
            "                       min_impurity_decrease=0.0, min_impurity_split=None,\n",
            "                       min_samples_leaf=1, min_samples_split=6,\n",
            "                       min_weight_fraction_leaf=0.0, n_estimators=50,\n",
            "                       n_jobs=None, oob_score=False, random_state=None,\n",
            "                       verbose=0, warm_start=False)\n",
            "\n",
            " The best score across ALL searched params:\n",
            " 0.9478242788118626\n",
            "\n",
            " The best parameters across ALL searched params:\n",
            " {'bootstrap': False, 'max_depth': 30, 'max_features': 'auto', 'min_samples_leaf': 1, 'min_samples_split': 6, 'n_estimators': 50}\n"
          ],
          "name": "stdout"
        }
      ]
    },
    {
      "cell_type": "code",
      "metadata": {
        "id": "p7NJynVwjVoQ"
      },
      "source": [
        "# Predict to Test Data \r\n",
        "y_pred_rgrid_search = rgrid_search.predict(X_test)"
      ],
      "execution_count": null,
      "outputs": []
    },
    {
      "cell_type": "code",
      "metadata": {
        "id": "QVoiQhZWjVxT",
        "colab": {
          "base_uri": "https://localhost:8080/"
        },
        "outputId": "28ae2386-ef2f-44c3-8b19-30b41ad20ff5"
      },
      "source": [
        "# Show the Accuracy, Precision, Recall Of RandomizedSearchCV\r\n",
        "acc_gs = metrics.accuracy_score(y_test, y_pred_rgrid_search)\r\n",
        "prec_gs = metrics.precision_score(y_test, y_pred_rgrid_search, average='weighted')\r\n",
        "rec_gs = metrics.recall_score(y_test, y_pred_rgrid_search, average='weighted')\r\n",
        "f1_gs = metrics.f1_score(y_test, y_pred_rgrid_search, average='weighted')\r\n",
        "kappa_gs = metrics.cohen_kappa_score(y_test, y_pred_rgrid_search)\r\n",
        " \r\n",
        "print(\"Accuracy:\", acc_gs)\r\n",
        "print(\"Precision:\", prec_gs)\r\n",
        "print(\"Recall:\", rec_gs)\r\n",
        "print(\"F1 Score:\",f1_gs)\r\n",
        "print(\"Cohens Kappa Score:\", kappa_gs)"
      ],
      "execution_count": null,
      "outputs": [
        {
          "output_type": "stream",
          "text": [
            "Accuracy: 0.9366197183098591\n",
            "Precision: 0.9344840122030198\n",
            "Recall: 0.9366197183098591\n",
            "F1 Score: 0.934620765427386\n",
            "Cohens Kappa Score: 0.8196952595936795\n"
          ],
          "name": "stdout"
        }
      ]
    },
    {
      "cell_type": "markdown",
      "metadata": {
        "id": "S6TEeJvgpbiY"
      },
      "source": [
        "# **User Input**"
      ]
    },
    {
      "cell_type": "code",
      "metadata": {
        "id": "HGpJgx_EhSE3"
      },
      "source": [
        "import joblib\n",
        " \n",
        "# Saving model\n",
        "def predict_advanced(baselinevalue, accelerations, fetal_movement,\n",
        "       uterine_contractions, light_decelerations, severe_decelerations,\n",
        "       prolongued_decelerations, abnormal_short_term_variability,\n",
        "       mean_value_of_short_term_variability,\n",
        "       percentage_of_time_with_abnormal_long_term_variability,\n",
        "       mean_value_of_long_term_variability, histogram_width,\n",
        "       histogram_min, histogram_max, histogram_number_of_peaks,\n",
        "       histogram_number_of_zeroes, histogram_mode, histogram_mean,\n",
        "       histogram_median, histogram_variance, histogram_tendency):\n",
        "    model = joblib.load('Fetal Health Prediciton.joblib') \n",
        " \n",
        "    predict_data = pd.DataFrame([[baselinevalue, accelerations, fetal_movement,\n",
        "       uterine_contractions, light_decelerations, severe_decelerations,\n",
        "       prolongued_decelerations, abnormal_short_term_variability,\n",
        "       mean_value_of_short_term_variability,\n",
        "       percentage_of_time_with_abnormal_long_term_variability,\n",
        "       mean_value_of_long_term_variability, histogram_width,\n",
        "       histogram_min, histogram_max, histogram_number_of_peaks,\n",
        "       histogram_number_of_zeroes, histogram_mode, histogram_mean,\n",
        "       histogram_median, histogram_variance, histogram_tendency]], columns=[['baseline value', 'accelerations', 'fetal_movement',\n",
        "       'uterine_contractions', 'light_decelerations', 'severe_decelerations',\n",
        "       'prolongued_decelerations', 'abnormal_short_term_variability',\n",
        "       'mean_value_of_short_term_variability',\n",
        "       'percentage_of_time_with_abnormal_long_term_variability',\n",
        "       'mean_value_of_long_term_variability', 'histogram_width',\n",
        "       'histogram_min', 'histogram_max', 'histogram_number_of_peaks',\n",
        "       'histogram_number_of_zeroes', 'histogram_mode', 'histogram_mean',\n",
        "       'histogram_median', 'histogram_variance', 'histogram_tendency']])\n",
        " \n",
        "    pred = model.predict(predict_data)[0]"
      ],
      "execution_count": null,
      "outputs": []
    },
    {
      "cell_type": "code",
      "metadata": {
        "id": "qvqvdZHPoymr",
        "colab": {
          "base_uri": "https://localhost:8080/"
        },
        "outputId": "e44d453f-fac4-486e-8495-34252b28daa9"
      },
      "source": [
        "import pickle\r\n",
        "# Save the trained model as a pickle string. \r\n",
        "saved_model = pickle.dumps(rgrid_search) \r\n",
        "  \r\n",
        "# Load the pickled model \r\n",
        "rgrid_search_from_pickle = pickle.loads(saved_model) \r\n",
        "  \r\n",
        "# Use the loaded pickled model to make predictions \r\n",
        "rgrid_search_from_pickle.predict(X_test) "
      ],
      "execution_count": null,
      "outputs": [
        {
          "output_type": "execute_result",
          "data": {
            "text/plain": [
              "array([1., 1., 1., 1., 1., 1., 1., 1., 1., 1., 1., 1., 1., 1., 1., 1., 1.,\n",
              "       1., 1., 1., 1., 2., 1., 1., 1., 1., 1., 1., 1., 2., 1., 1., 1., 1.,\n",
              "       3., 1., 1., 1., 1., 1., 1., 1., 1., 1., 1., 1., 3., 2., 1., 1., 1.,\n",
              "       1., 1., 1., 1., 3., 3., 1., 1., 1., 1., 1., 1., 2., 1., 1., 3., 1.,\n",
              "       1., 1., 1., 1., 1., 2., 1., 2., 1., 1., 1., 1., 2., 2., 1., 1., 1.,\n",
              "       1., 1., 2., 1., 1., 1., 1., 1., 2., 1., 1., 1., 1., 1., 1., 1., 1.,\n",
              "       2., 2., 1., 1., 1., 1., 2., 2., 1., 1., 3., 1., 1., 1., 1., 1., 1.,\n",
              "       2., 2., 1., 1., 1., 1., 2., 1., 1., 1., 2., 2., 1., 1., 1., 1., 2.,\n",
              "       1., 1., 1., 1., 1., 1., 3., 3., 3., 2., 3., 1., 1., 3., 1., 1., 1.,\n",
              "       1., 3., 1., 1., 1., 1., 1., 1., 1., 1., 1., 1., 1., 1., 3., 1., 1.,\n",
              "       2., 2., 1., 1., 1., 1., 1., 1., 1., 2., 1., 1., 2., 2., 1., 1., 1.,\n",
              "       1., 1., 1., 1., 1., 3., 2., 1., 3., 2., 2., 1., 1., 1., 1., 1., 2.,\n",
              "       1., 1., 1., 1., 1., 1., 1., 1., 1., 1., 1., 1., 1., 1., 1., 1., 2.,\n",
              "       1., 2., 1., 1., 1., 1., 2., 1., 1., 1., 1., 1., 1., 1., 1., 1., 1.,\n",
              "       1., 1., 1., 1., 1., 1., 1., 1., 2., 1., 1., 3., 3., 3., 1., 1., 1.,\n",
              "       3., 1., 1., 1., 3., 1., 1., 2., 1., 1., 1., 1., 1., 1., 1., 1., 1.,\n",
              "       1., 2., 1., 1., 1., 2., 1., 2., 2., 1., 1., 1., 1., 1., 1., 1., 1.,\n",
              "       3., 1., 2., 1., 1., 1., 1., 2., 3., 1., 1., 1., 1., 2., 1., 1., 1.,\n",
              "       1., 1., 2., 1., 3., 1., 1., 3., 1., 1., 1., 1., 1., 2., 1., 3., 1.,\n",
              "       3., 3., 1., 1., 3., 1., 1., 1., 2., 1., 1., 1., 1., 1., 1., 1., 1.,\n",
              "       3., 1., 1., 1., 1., 1., 1., 1., 1., 1., 1., 1., 1., 1., 1., 1., 3.,\n",
              "       1., 1., 1., 1., 3., 1., 1., 2., 1., 1., 1., 3., 1., 1., 1., 1., 1.,\n",
              "       1., 1., 1., 1., 1., 1., 1., 1., 1., 1., 1., 1., 1., 1., 1., 1., 1.,\n",
              "       1., 1., 1., 1., 1., 1., 1., 2., 1., 1., 1., 1., 1., 1., 1., 1., 1.,\n",
              "       1., 1., 1., 1., 1., 3., 2., 1., 2., 1., 1., 1., 1., 3., 1., 1., 2.,\n",
              "       1.])"
            ]
          },
          "metadata": {
            "tags": []
          },
          "execution_count": 41
        }
      ]
    },
    {
      "cell_type": "code",
      "metadata": {
        "id": "XdpX_9Zqv0RX"
      },
      "source": [
        "from sklearn.externals import joblib\r\n",
        "\r\n",
        "joblib.dump(rfc, 'Fetal Health.joblib')\r\n",
        "\r\n",
        "def feature_FH(baselinevalue, accelerations, fetal_movement,\r\n",
        "       uterine_contractions, light_decelerations, severe_decelerations,\r\n",
        "       prolongued_decelerations, abnormal_short_term_variability,\r\n",
        "       mean_value_of_short_term_variability,\r\n",
        "       percentage_of_time_with_abnormal_long_term_variability,\r\n",
        "       mean_value_of_long_term_variability, histogram_width,\r\n",
        "       histogram_min, histogram_max, histogram_number_of_peaks,\r\n",
        "       histogram_number_of_zeroes, histogram_mode, histogram_mean,\r\n",
        "       histogram_median, histogram_variance, histogram_tendency):\r\n",
        "    \r\n",
        "    rgrid_search_from_joblib = joblib.load('Fetal Health.joblib')\r\n",
        "    \r\n",
        "    predict_data = pd.DataFrame([[baselinevalue, accelerations, fetal_movement,\r\n",
        "       uterine_contractions, light_decelerations, severe_decelerations,\r\n",
        "       prolongued_decelerations, abnormal_short_term_variability,\r\n",
        "       mean_value_of_short_term_variability,\r\n",
        "       percentage_of_time_with_abnormal_long_term_variability,\r\n",
        "       mean_value_of_long_term_variability, histogram_width,\r\n",
        "       histogram_min, histogram_max, histogram_number_of_peaks,\r\n",
        "       histogram_number_of_zeroes, histogram_mode, histogram_mean,\r\n",
        "       histogram_median, histogram_variance, histogram_tendency]],\r\n",
        "       \r\n",
        "       columns=[['baselinevalue', 'accelerations', 'fetal_movement',\r\n",
        "       'uterine_contractions', 'light_decelerations', 'severe_decelerations',\r\n",
        "       'prolongued_decelerations', 'abnormal_short_term_variability',\r\n",
        "       'mean_value_of_short_term_variability',\r\n",
        "       'percentage_of_time_with_abnormal_long_term_variability',\r\n",
        "       'mean_value_of_long_term_variability', 'histogram_width',\r\n",
        "       'histogram_min', 'histogram_max', 'histogram_number_of_peaks',\r\n",
        "       'histogram_number_of_zeroes', 'histogram_mode', 'histogram_mean',\r\n",
        "       'histogram_median', 'histogram_variance', 'histogram_tendency']]\r\n",
        "                                )\r\n",
        "    pred = rgrid_search_from_joblib.predict(predict_data)[0]\r\n",
        "\r\n",
        "    return pred"
      ],
      "execution_count": null,
      "outputs": []
    },
    {
      "cell_type": "markdown",
      "metadata": {
        "id": "KRA1RxyX2F_X"
      },
      "source": [
        "## **Function Input User**\r\n",
        "\r\n",
        "Pada bagian ini, user memberikan inputan berupa value yang dibutuhkan untuk setiap atribut secara manual tergantung dari kondisi bayi yang sedang diperiksa."
      ]
    },
    {
      "cell_type": "code",
      "metadata": {
        "id": "Xt6PQsiqG1mi"
      },
      "source": [
        "def input_user():\r\n",
        "  a = input(\"Masukkan Nilai baselinevalue = \")\r\n",
        "  b = input(\"Masukkan Nilai accelerations = \")\r\n",
        "  c = input(\"Masukkan Nilai fetal_movement = \")\r\n",
        "  d = input(\"Masukkan Nilai uterine_contractions = \")\r\n",
        "  e = input(\"Masukkan Nilai light_decelerations = \")\r\n",
        "  f = input(\"Masukkan Nilai severe_decelerations = \")\r\n",
        "  g = input(\"Masukkan Nilai prolongued_decelerations = \")\r\n",
        "  h = input(\"Masukkan Nilai abnormal_short_term_variability = \")\r\n",
        "  i = input(\"Masukkan Nilai mean_value_of_short_term_variability = \")\r\n",
        "  j = input(\"Masukkan Nilai percentage_of_time_with_abnormal_long_term_variability = \")\r\n",
        "  k = input(\"Masukkan Nilai mean_value_of_long_term_variability = \")\r\n",
        "  l = input(\"Masukkan Nilai histogram_width = \")\r\n",
        "  m = input(\"Masukkan Nilai histogram_min = \")\r\n",
        "  n = input(\"Masukkan Nilai histogram_max = \")\r\n",
        "  o = input(\"Masukkan Nilai histogram_number_of_peaks = \")\r\n",
        "  p = input(\"Masukkan Nilai histogram_number_of_zeroes = \")\r\n",
        "  q = input(\"Masukkan Nilai histogram_mode = \")\r\n",
        "  r = input(\"Masukkan Nilai histogram_mean = \")\r\n",
        "  s = input(\"Masukkan Nilai histogram_median = \")\r\n",
        "  t = input(\"Masukkan Nilai histogram_variance = \")\r\n",
        "  u = input(\"Masukkan Nilai histogram_tendency = \")\r\n",
        "  v = input(\"Masukkan Nilai fetal_health = \")\r\n",
        "\r\n",
        "  nilai = []\r\n",
        "  z = [a]+[b]+[c]+[d]+[e]+[f]+[g]+[h]+[i]+[j]+[k]+[l]+[m]+[n]+[o]+[p]+[q]+[r]+[s]+[t]+[u]+[v]\r\n",
        "  nilai.append(z)\r\n",
        "\r\n",
        "  newdata = pd.DataFrame(nilai, columns=data.columns)\r\n",
        "  columns = ['baseline value', 'accelerations', 'fetal_movement',\r\n",
        "       'uterine_contractions', 'light_decelerations', 'severe_decelerations',\r\n",
        "       'prolongued_decelerations', 'abnormal_short_term_variability',\r\n",
        "       'mean_value_of_short_term_variability',\r\n",
        "       'percentage_of_time_with_abnormal_long_term_variability',\r\n",
        "       'mean_value_of_long_term_variability', 'histogram_width',\r\n",
        "       'histogram_min', 'histogram_max', 'histogram_number_of_peaks',\r\n",
        "       'histogram_number_of_zeroes', 'histogram_mode', 'histogram_mean',\r\n",
        "       'histogram_median', 'histogram_variance', 'histogram_tendency']\r\n",
        "\r\n",
        "  X_new =  scale_X.transform(newdata.drop([\"fetal_health\"],axis = 1))[0]\r\n",
        "  return X_new\r\n"
      ],
      "execution_count": null,
      "outputs": []
    },
    {
      "cell_type": "markdown",
      "metadata": {
        "id": "Ssc_vfH-2er4"
      },
      "source": [
        "## **Function Prediction**"
      ]
    },
    {
      "cell_type": "code",
      "metadata": {
        "id": "LBVYTJOJp86k"
      },
      "source": [
        "def prediksi(X_new):\r\n",
        "  pred = feature_FH(X_new[0], X_new[1], X_new[2], X_new[3], X_new[4], X_new[5], X_new[6], X_new[7], X_new[8], X_new[9], X_new[10],\r\n",
        "                    X_new[11], X_new[12], X_new[13],X_new[14], X_new[15], X_new[16], X_new[17], X_new[18], X_new[19], X_new[20])\r\n",
        "  if pred == 1.0: \r\n",
        "    return ('Kesehatan Janin anda Normal')\r\n",
        "  elif pred == 2.0: \r\n",
        "    return ('Kesehatan Janin anda Suspect')\r\n",
        "  elif pred ==3.0:\r\n",
        "    return ('Kesehatan Janin anda Pathological')\r\n",
        "  else: \r\n",
        "    return (pred,'Tidak ada hasil')"
      ],
      "execution_count": null,
      "outputs": []
    },
    {
      "cell_type": "markdown",
      "metadata": {
        "id": "v3Tw7iu52iw4"
      },
      "source": [
        "## **Build the Main Menu**"
      ]
    },
    {
      "cell_type": "code",
      "metadata": {
        "id": "bU-1CtI4rK8a"
      },
      "source": [
        "from os import system, name \r\n",
        "\r\n",
        "def main_menu():\r\n",
        "  print(\"\\tProgram Prediksi Kesehatan Janin\\n\\t  1. Prediksi Kesehatan Janin\\n\\t  0. Exit\")\r\n",
        "  a = input(\"Masukan Pilihan : \")\r\n",
        "  a = int(a) \r\n",
        "  if a == 1 :\r\n",
        "    while a != 0 :\r\n",
        "        datauser = input_user()\r\n",
        "        system('cls')\r\n",
        "        print(\"\\n\")\r\n",
        "        print(\"Hasil Prediksi Kesehatan Bayi = \", prediksi(datauser))\r\n",
        "        print(\"\\n\\t  1. untuk kembali ke menu awal\")\r\n",
        "        print(\"\\t 0. untuk exit\")\r\n",
        "        a = input(\"Masukan Pilihan : \")\r\n",
        "        a = int(a) \r\n",
        "        if a == 1 :\r\n",
        "          main_menu()\r\n",
        "        elif a == 0 :\r\n",
        "          print(\"Terima kasih telah menggunakan program ini\")\r\n",
        "          a == 0\r\n",
        "  else :\r\n",
        "     print(\"Terima kasih telah menggunakan program ini\")\r\n"
      ],
      "execution_count": null,
      "outputs": []
    },
    {
      "cell_type": "markdown",
      "metadata": {
        "id": "D7Qcymu-2oDj"
      },
      "source": [
        "## **Running the Main Menu**"
      ]
    },
    {
      "cell_type": "code",
      "metadata": {
        "id": "WZEFmlNgpTX5",
        "colab": {
          "base_uri": "https://localhost:8080/"
        },
        "outputId": "f02094b3-1b0a-4498-fdc5-a5e46dd45380"
      },
      "source": [
        "main_menu()"
      ],
      "execution_count": null,
      "outputs": [
        {
          "output_type": "stream",
          "text": [
            "\tProgram Prediksi Kesehatan Janin\n",
            "\t  1. Prediksi Kesehatan Janin\n",
            "\t  0. Exit\n",
            "Masukan Pilihan : 0\n",
            "Terima kasih telah menggunakan program ini\n"
          ],
          "name": "stdout"
        }
      ]
    }
  ]
}